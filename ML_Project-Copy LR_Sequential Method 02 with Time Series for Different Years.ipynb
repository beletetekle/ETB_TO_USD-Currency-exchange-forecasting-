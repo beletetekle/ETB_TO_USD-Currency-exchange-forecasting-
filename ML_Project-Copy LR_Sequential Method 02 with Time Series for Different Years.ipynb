{
 "cells": [
  {
   "cell_type": "markdown",
   "metadata": {},
   "source": [
    "USD to Birr Exchange Rate Forecaster \n",
    "== \n",
    "\n",
    "Required Data \n",
    "\n",
    "Exchange Rate and Dates history\n",
    "\n",
    "Main influncial datas for foreign currency exchange \n",
    "\n",
    "- Inflation Rates \n",
    "- Interest Rate \n",
    "- Terms of Trade || Ethiopian and United States of America   "
   ]
  },
  {
   "cell_type": "code",
   "execution_count": 128,
   "metadata": {},
   "outputs": [],
   "source": [
    "import pandas as pd\n",
    "import numpy as np\n",
    "import matplotlib.pyplot as plt\n",
    "from datetime import datetime\n",
    "from sklearn.model_selection import train_test_split\n",
    "from sklearn.linear_model import LinearRegression\n",
    "from sklearn import metrics\n",
    "\n",
    "from sklearn.preprocessing import MinMaxScaler"
   ]
  },
  {
   "cell_type": "code",
   "execution_count": 3,
   "metadata": {},
   "outputs": [],
   "source": [
    "#Helper functions \n",
    "\n",
    "def normalize_Date_col(dates):\n",
    "    \n",
    "    new_dates = dates\n",
    "    for i in range(dates.shape[0]):\n",
    "        date = dates[i]\n",
    "        month_to_changed = date[:3]\n",
    "        day = date[4:6] \n",
    "        year = date[8:12]\n",
    "        month = \"\"\n",
    "        #print(month_to_changed)\n",
    "        if month_to_changed == \"Jan\":\n",
    "            month = \"01\"\n",
    "        elif month_to_changed == \"Feb\":\n",
    "            month = \"02\"\n",
    "        elif month_to_changed == \"Mar\":\n",
    "            month = \"03\"\n",
    "        elif month_to_changed == \"Apr\":\n",
    "            month = \"04\"\n",
    "        elif month_to_changed == \"May\":\n",
    "            month = \"05\"\n",
    "        elif month_to_changed == \"Jun\":\n",
    "            month = \"06\"\n",
    "        elif month_to_changed == \"Jul\":\n",
    "            month = \"07\"\n",
    "        elif month_to_changed == \"Aug\":\n",
    "            month = \"08\"\n",
    "        elif month_to_changed == \"Sep\":\n",
    "            month = \"09\"\n",
    "        elif month_to_changed == \"Oct\":\n",
    "            month = \"10\"\n",
    "        elif month_to_changed == \"Nov\":\n",
    "            month = \"11\"\n",
    "        elif month_to_changed == \"Dec\":\n",
    "            month = \"12\"\n",
    "        else: \n",
    "            month = \"error\"\n",
    "            \n",
    "        new_date = date[8:12] + \"-\" +  month + \"-\" + date[4:6]\n",
    "       \n",
    "        new_dates[i] = new_date\n",
    "    return new_dates\n",
    "            "
   ]
  },
  {
   "cell_type": "code",
   "execution_count": 4,
   "metadata": {},
   "outputs": [],
   "source": [
    "Data = pd.read_csv(\"../Documents/MSC/AI ITSC/ML/Project/Training_Data_Engineered/EBirr_TO_USD_Forcaseter_Traininng_Data.csv\")"
   ]
  },
  {
   "cell_type": "code",
   "execution_count": 5,
   "metadata": {},
   "outputs": [
    {
     "data": {
      "text/html": [
       "<div>\n",
       "<style scoped>\n",
       "    .dataframe tbody tr th:only-of-type {\n",
       "        vertical-align: middle;\n",
       "    }\n",
       "\n",
       "    .dataframe tbody tr th {\n",
       "        vertical-align: top;\n",
       "    }\n",
       "\n",
       "    .dataframe thead th {\n",
       "        text-align: right;\n",
       "    }\n",
       "</style>\n",
       "<table border=\"1\" class=\"dataframe\">\n",
       "  <thead>\n",
       "    <tr style=\"text-align: right;\">\n",
       "      <th></th>\n",
       "      <th>Date</th>\n",
       "      <th>Price</th>\n",
       "      <th>Open</th>\n",
       "      <th>High</th>\n",
       "      <th>Low</th>\n",
       "      <th>Change %</th>\n",
       "      <th>et_Import</th>\n",
       "      <th>et_Export</th>\n",
       "      <th>Eth_Imp_Exp_Blnc</th>\n",
       "      <th>GDB</th>\n",
       "      <th>Debt</th>\n",
       "      <th>PST</th>\n",
       "    </tr>\n",
       "  </thead>\n",
       "  <tbody>\n",
       "    <tr>\n",
       "      <th>0</th>\n",
       "      <td>Apr 15, 2021</td>\n",
       "      <td>41.6969</td>\n",
       "      <td>41.6838</td>\n",
       "      <td>41.6969</td>\n",
       "      <td>41.3550</td>\n",
       "      <td>0.20%</td>\n",
       "      <td>39.0</td>\n",
       "      <td>32.0</td>\n",
       "      <td>-7.0</td>\n",
       "      <td>92.00</td>\n",
       "      <td>58.70</td>\n",
       "      <td>1.33</td>\n",
       "    </tr>\n",
       "    <tr>\n",
       "      <th>1</th>\n",
       "      <td>Apr 14, 2021</td>\n",
       "      <td>41.6150</td>\n",
       "      <td>41.6676</td>\n",
       "      <td>41.6838</td>\n",
       "      <td>41.3500</td>\n",
       "      <td>0.08%</td>\n",
       "      <td>39.0</td>\n",
       "      <td>32.0</td>\n",
       "      <td>-7.0</td>\n",
       "      <td>92.00</td>\n",
       "      <td>58.70</td>\n",
       "      <td>1.33</td>\n",
       "    </tr>\n",
       "    <tr>\n",
       "      <th>2</th>\n",
       "      <td>Apr 13, 2021</td>\n",
       "      <td>41.5825</td>\n",
       "      <td>41.6541</td>\n",
       "      <td>41.6905</td>\n",
       "      <td>41.3500</td>\n",
       "      <td>0.06%</td>\n",
       "      <td>39.0</td>\n",
       "      <td>32.0</td>\n",
       "      <td>-7.0</td>\n",
       "      <td>92.00</td>\n",
       "      <td>58.70</td>\n",
       "      <td>1.33</td>\n",
       "    </tr>\n",
       "    <tr>\n",
       "      <th>3</th>\n",
       "      <td>Apr 12, 2021</td>\n",
       "      <td>41.5555</td>\n",
       "      <td>41.6377</td>\n",
       "      <td>41.6888</td>\n",
       "      <td>41.3250</td>\n",
       "      <td>0.08%</td>\n",
       "      <td>39.0</td>\n",
       "      <td>32.0</td>\n",
       "      <td>-7.0</td>\n",
       "      <td>92.00</td>\n",
       "      <td>58.70</td>\n",
       "      <td>1.33</td>\n",
       "    </tr>\n",
       "    <tr>\n",
       "      <th>4</th>\n",
       "      <td>Apr 09, 2021</td>\n",
       "      <td>41.5227</td>\n",
       "      <td>41.6245</td>\n",
       "      <td>41.6674</td>\n",
       "      <td>41.5962</td>\n",
       "      <td>0.68%</td>\n",
       "      <td>39.0</td>\n",
       "      <td>32.0</td>\n",
       "      <td>-7.0</td>\n",
       "      <td>92.00</td>\n",
       "      <td>58.70</td>\n",
       "      <td>1.33</td>\n",
       "    </tr>\n",
       "    <tr>\n",
       "      <th>...</th>\n",
       "      <td>...</td>\n",
       "      <td>...</td>\n",
       "      <td>...</td>\n",
       "      <td>...</td>\n",
       "      <td>...</td>\n",
       "      <td>...</td>\n",
       "      <td>...</td>\n",
       "      <td>...</td>\n",
       "      <td>...</td>\n",
       "      <td>...</td>\n",
       "      <td>...</td>\n",
       "      <td>...</td>\n",
       "    </tr>\n",
       "    <tr>\n",
       "      <th>2679</th>\n",
       "      <td>Jan 07, 2011</td>\n",
       "      <td>16.6415</td>\n",
       "      <td>16.5590</td>\n",
       "      <td>16.6415</td>\n",
       "      <td>16.5590</td>\n",
       "      <td>0.00%</td>\n",
       "      <td>137.5</td>\n",
       "      <td>7.6</td>\n",
       "      <td>-129.9</td>\n",
       "      <td>31.95</td>\n",
       "      <td>2.56</td>\n",
       "      <td>1.51</td>\n",
       "    </tr>\n",
       "    <tr>\n",
       "      <th>2680</th>\n",
       "      <td>Jan 06, 2011</td>\n",
       "      <td>16.6420</td>\n",
       "      <td>16.5560</td>\n",
       "      <td>16.6990</td>\n",
       "      <td>16.5560</td>\n",
       "      <td>0.02%</td>\n",
       "      <td>137.5</td>\n",
       "      <td>7.6</td>\n",
       "      <td>-129.9</td>\n",
       "      <td>31.95</td>\n",
       "      <td>2.56</td>\n",
       "      <td>1.51</td>\n",
       "    </tr>\n",
       "    <tr>\n",
       "      <th>2681</th>\n",
       "      <td>Jan 05, 2011</td>\n",
       "      <td>16.6390</td>\n",
       "      <td>16.5530</td>\n",
       "      <td>16.6960</td>\n",
       "      <td>16.5530</td>\n",
       "      <td>0.02%</td>\n",
       "      <td>137.5</td>\n",
       "      <td>7.6</td>\n",
       "      <td>-129.9</td>\n",
       "      <td>31.95</td>\n",
       "      <td>2.56</td>\n",
       "      <td>1.51</td>\n",
       "    </tr>\n",
       "    <tr>\n",
       "      <th>2682</th>\n",
       "      <td>Jan 04, 2011</td>\n",
       "      <td>16.6360</td>\n",
       "      <td>16.5510</td>\n",
       "      <td>16.6360</td>\n",
       "      <td>16.5510</td>\n",
       "      <td>0.02%</td>\n",
       "      <td>137.5</td>\n",
       "      <td>7.6</td>\n",
       "      <td>-129.9</td>\n",
       "      <td>31.95</td>\n",
       "      <td>2.56</td>\n",
       "      <td>1.51</td>\n",
       "    </tr>\n",
       "    <tr>\n",
       "      <th>2683</th>\n",
       "      <td>Jan 03, 2011</td>\n",
       "      <td>16.6335</td>\n",
       "      <td>16.5480</td>\n",
       "      <td>16.6335</td>\n",
       "      <td>16.5480</td>\n",
       "      <td>0.02%</td>\n",
       "      <td>137.5</td>\n",
       "      <td>7.6</td>\n",
       "      <td>-129.9</td>\n",
       "      <td>31.95</td>\n",
       "      <td>2.56</td>\n",
       "      <td>1.51</td>\n",
       "    </tr>\n",
       "  </tbody>\n",
       "</table>\n",
       "<p>2684 rows × 12 columns</p>\n",
       "</div>"
      ],
      "text/plain": [
       "              Date    Price     Open     High      Low Change %  et_Import  \\\n",
       "0     Apr 15, 2021  41.6969  41.6838  41.6969  41.3550    0.20%       39.0   \n",
       "1     Apr 14, 2021  41.6150  41.6676  41.6838  41.3500    0.08%       39.0   \n",
       "2     Apr 13, 2021  41.5825  41.6541  41.6905  41.3500    0.06%       39.0   \n",
       "3     Apr 12, 2021  41.5555  41.6377  41.6888  41.3250    0.08%       39.0   \n",
       "4     Apr 09, 2021  41.5227  41.6245  41.6674  41.5962    0.68%       39.0   \n",
       "...            ...      ...      ...      ...      ...      ...        ...   \n",
       "2679  Jan 07, 2011  16.6415  16.5590  16.6415  16.5590    0.00%      137.5   \n",
       "2680  Jan 06, 2011  16.6420  16.5560  16.6990  16.5560    0.02%      137.5   \n",
       "2681  Jan 05, 2011  16.6390  16.5530  16.6960  16.5530    0.02%      137.5   \n",
       "2682  Jan 04, 2011  16.6360  16.5510  16.6360  16.5510    0.02%      137.5   \n",
       "2683  Jan 03, 2011  16.6335  16.5480  16.6335  16.5480    0.02%      137.5   \n",
       "\n",
       "      et_Export  Eth_Imp_Exp_Blnc    GDB   Debt   PST  \n",
       "0          32.0              -7.0  92.00  58.70  1.33  \n",
       "1          32.0              -7.0  92.00  58.70  1.33  \n",
       "2          32.0              -7.0  92.00  58.70  1.33  \n",
       "3          32.0              -7.0  92.00  58.70  1.33  \n",
       "4          32.0              -7.0  92.00  58.70  1.33  \n",
       "...         ...               ...    ...    ...   ...  \n",
       "2679        7.6            -129.9  31.95   2.56  1.51  \n",
       "2680        7.6            -129.9  31.95   2.56  1.51  \n",
       "2681        7.6            -129.9  31.95   2.56  1.51  \n",
       "2682        7.6            -129.9  31.95   2.56  1.51  \n",
       "2683        7.6            -129.9  31.95   2.56  1.51  \n",
       "\n",
       "[2684 rows x 12 columns]"
      ]
     },
     "execution_count": 5,
     "metadata": {},
     "output_type": "execute_result"
    }
   ],
   "source": [
    "Data"
   ]
  },
  {
   "cell_type": "code",
   "execution_count": 6,
   "metadata": {},
   "outputs": [],
   "source": [
    "req_Data = Data[['Date' , 'Price' , 'Eth_Imp_Exp_Blnc' , \"GDB\" , 'Debt' , 'PST']]"
   ]
  },
  {
   "cell_type": "code",
   "execution_count": 7,
   "metadata": {},
   "outputs": [
    {
     "data": {
      "text/html": [
       "<div>\n",
       "<style scoped>\n",
       "    .dataframe tbody tr th:only-of-type {\n",
       "        vertical-align: middle;\n",
       "    }\n",
       "\n",
       "    .dataframe tbody tr th {\n",
       "        vertical-align: top;\n",
       "    }\n",
       "\n",
       "    .dataframe thead th {\n",
       "        text-align: right;\n",
       "    }\n",
       "</style>\n",
       "<table border=\"1\" class=\"dataframe\">\n",
       "  <thead>\n",
       "    <tr style=\"text-align: right;\">\n",
       "      <th></th>\n",
       "      <th>Date</th>\n",
       "      <th>Price</th>\n",
       "      <th>Eth_Imp_Exp_Blnc</th>\n",
       "      <th>GDB</th>\n",
       "      <th>Debt</th>\n",
       "      <th>PST</th>\n",
       "    </tr>\n",
       "  </thead>\n",
       "  <tbody>\n",
       "    <tr>\n",
       "      <th>0</th>\n",
       "      <td>Apr 15, 2021</td>\n",
       "      <td>41.6969</td>\n",
       "      <td>-7.0</td>\n",
       "      <td>92.00</td>\n",
       "      <td>58.70</td>\n",
       "      <td>1.33</td>\n",
       "    </tr>\n",
       "    <tr>\n",
       "      <th>1</th>\n",
       "      <td>Apr 14, 2021</td>\n",
       "      <td>41.6150</td>\n",
       "      <td>-7.0</td>\n",
       "      <td>92.00</td>\n",
       "      <td>58.70</td>\n",
       "      <td>1.33</td>\n",
       "    </tr>\n",
       "    <tr>\n",
       "      <th>2</th>\n",
       "      <td>Apr 13, 2021</td>\n",
       "      <td>41.5825</td>\n",
       "      <td>-7.0</td>\n",
       "      <td>92.00</td>\n",
       "      <td>58.70</td>\n",
       "      <td>1.33</td>\n",
       "    </tr>\n",
       "    <tr>\n",
       "      <th>3</th>\n",
       "      <td>Apr 12, 2021</td>\n",
       "      <td>41.5555</td>\n",
       "      <td>-7.0</td>\n",
       "      <td>92.00</td>\n",
       "      <td>58.70</td>\n",
       "      <td>1.33</td>\n",
       "    </tr>\n",
       "    <tr>\n",
       "      <th>4</th>\n",
       "      <td>Apr 09, 2021</td>\n",
       "      <td>41.5227</td>\n",
       "      <td>-7.0</td>\n",
       "      <td>92.00</td>\n",
       "      <td>58.70</td>\n",
       "      <td>1.33</td>\n",
       "    </tr>\n",
       "    <tr>\n",
       "      <th>...</th>\n",
       "      <td>...</td>\n",
       "      <td>...</td>\n",
       "      <td>...</td>\n",
       "      <td>...</td>\n",
       "      <td>...</td>\n",
       "      <td>...</td>\n",
       "    </tr>\n",
       "    <tr>\n",
       "      <th>2679</th>\n",
       "      <td>Jan 07, 2011</td>\n",
       "      <td>16.6415</td>\n",
       "      <td>-129.9</td>\n",
       "      <td>31.95</td>\n",
       "      <td>2.56</td>\n",
       "      <td>1.51</td>\n",
       "    </tr>\n",
       "    <tr>\n",
       "      <th>2680</th>\n",
       "      <td>Jan 06, 2011</td>\n",
       "      <td>16.6420</td>\n",
       "      <td>-129.9</td>\n",
       "      <td>31.95</td>\n",
       "      <td>2.56</td>\n",
       "      <td>1.51</td>\n",
       "    </tr>\n",
       "    <tr>\n",
       "      <th>2681</th>\n",
       "      <td>Jan 05, 2011</td>\n",
       "      <td>16.6390</td>\n",
       "      <td>-129.9</td>\n",
       "      <td>31.95</td>\n",
       "      <td>2.56</td>\n",
       "      <td>1.51</td>\n",
       "    </tr>\n",
       "    <tr>\n",
       "      <th>2682</th>\n",
       "      <td>Jan 04, 2011</td>\n",
       "      <td>16.6360</td>\n",
       "      <td>-129.9</td>\n",
       "      <td>31.95</td>\n",
       "      <td>2.56</td>\n",
       "      <td>1.51</td>\n",
       "    </tr>\n",
       "    <tr>\n",
       "      <th>2683</th>\n",
       "      <td>Jan 03, 2011</td>\n",
       "      <td>16.6335</td>\n",
       "      <td>-129.9</td>\n",
       "      <td>31.95</td>\n",
       "      <td>2.56</td>\n",
       "      <td>1.51</td>\n",
       "    </tr>\n",
       "  </tbody>\n",
       "</table>\n",
       "<p>2684 rows × 6 columns</p>\n",
       "</div>"
      ],
      "text/plain": [
       "              Date    Price  Eth_Imp_Exp_Blnc    GDB   Debt   PST\n",
       "0     Apr 15, 2021  41.6969              -7.0  92.00  58.70  1.33\n",
       "1     Apr 14, 2021  41.6150              -7.0  92.00  58.70  1.33\n",
       "2     Apr 13, 2021  41.5825              -7.0  92.00  58.70  1.33\n",
       "3     Apr 12, 2021  41.5555              -7.0  92.00  58.70  1.33\n",
       "4     Apr 09, 2021  41.5227              -7.0  92.00  58.70  1.33\n",
       "...            ...      ...               ...    ...    ...   ...\n",
       "2679  Jan 07, 2011  16.6415            -129.9  31.95   2.56  1.51\n",
       "2680  Jan 06, 2011  16.6420            -129.9  31.95   2.56  1.51\n",
       "2681  Jan 05, 2011  16.6390            -129.9  31.95   2.56  1.51\n",
       "2682  Jan 04, 2011  16.6360            -129.9  31.95   2.56  1.51\n",
       "2683  Jan 03, 2011  16.6335            -129.9  31.95   2.56  1.51\n",
       "\n",
       "[2684 rows x 6 columns]"
      ]
     },
     "execution_count": 7,
     "metadata": {},
     "output_type": "execute_result"
    }
   ],
   "source": [
    "req_Data"
   ]
  },
  {
   "cell_type": "code",
   "execution_count": 8,
   "metadata": {},
   "outputs": [],
   "source": [
    "USD = np.ones(req_Data['Date'].shape)"
   ]
  },
  {
   "cell_type": "code",
   "execution_count": 9,
   "metadata": {},
   "outputs": [
    {
     "name": "stderr",
     "output_type": "stream",
     "text": [
      "<ipython-input-9-19db13b99c2d>:1: SettingWithCopyWarning: \n",
      "A value is trying to be set on a copy of a slice from a DataFrame.\n",
      "Try using .loc[row_indexer,col_indexer] = value instead\n",
      "\n",
      "See the caveats in the documentation: https://pandas.pydata.org/pandas-docs/stable/user_guide/indexing.html#returning-a-view-versus-a-copy\n",
      "  req_Data[\"USD\"] = USD\n"
     ]
    }
   ],
   "source": [
    "req_Data[\"USD\"] = USD"
   ]
  },
  {
   "cell_type": "code",
   "execution_count": 10,
   "metadata": {},
   "outputs": [
    {
     "name": "stderr",
     "output_type": "stream",
     "text": [
      "<ipython-input-10-a0989de8d394>:1: SettingWithCopyWarning: \n",
      "A value is trying to be set on a copy of a slice from a DataFrame\n",
      "\n",
      "See the caveats in the documentation: https://pandas.pydata.org/pandas-docs/stable/user_guide/indexing.html#returning-a-view-versus-a-copy\n",
      "  req_Data['Date'][0] = \"Apr 15, 2021\"\n",
      "/Users/macbookpro/opt/anaconda3/lib/python3.8/site-packages/IPython/core/interactiveshell.py:3418: SettingWithCopyWarning: \n",
      "A value is trying to be set on a copy of a slice from a DataFrame\n",
      "\n",
      "See the caveats in the documentation: https://pandas.pydata.org/pandas-docs/stable/user_guide/indexing.html#returning-a-view-versus-a-copy\n",
      "  exec(code_obj, self.user_global_ns, self.user_ns)\n"
     ]
    }
   ],
   "source": [
    "req_Data['Date'][0] = \"Apr 15, 2021\""
   ]
  },
  {
   "cell_type": "code",
   "execution_count": 11,
   "metadata": {},
   "outputs": [
    {
     "data": {
      "text/html": [
       "<div>\n",
       "<style scoped>\n",
       "    .dataframe tbody tr th:only-of-type {\n",
       "        vertical-align: middle;\n",
       "    }\n",
       "\n",
       "    .dataframe tbody tr th {\n",
       "        vertical-align: top;\n",
       "    }\n",
       "\n",
       "    .dataframe thead th {\n",
       "        text-align: right;\n",
       "    }\n",
       "</style>\n",
       "<table border=\"1\" class=\"dataframe\">\n",
       "  <thead>\n",
       "    <tr style=\"text-align: right;\">\n",
       "      <th></th>\n",
       "      <th>Date</th>\n",
       "      <th>Price</th>\n",
       "      <th>Eth_Imp_Exp_Blnc</th>\n",
       "      <th>GDB</th>\n",
       "      <th>Debt</th>\n",
       "      <th>PST</th>\n",
       "      <th>USD</th>\n",
       "    </tr>\n",
       "  </thead>\n",
       "  <tbody>\n",
       "    <tr>\n",
       "      <th>0</th>\n",
       "      <td>Apr 15, 2021</td>\n",
       "      <td>41.6969</td>\n",
       "      <td>-7.0</td>\n",
       "      <td>92.00</td>\n",
       "      <td>58.70</td>\n",
       "      <td>1.33</td>\n",
       "      <td>1.0</td>\n",
       "    </tr>\n",
       "    <tr>\n",
       "      <th>1</th>\n",
       "      <td>Apr 14, 2021</td>\n",
       "      <td>41.6150</td>\n",
       "      <td>-7.0</td>\n",
       "      <td>92.00</td>\n",
       "      <td>58.70</td>\n",
       "      <td>1.33</td>\n",
       "      <td>1.0</td>\n",
       "    </tr>\n",
       "    <tr>\n",
       "      <th>2</th>\n",
       "      <td>Apr 13, 2021</td>\n",
       "      <td>41.5825</td>\n",
       "      <td>-7.0</td>\n",
       "      <td>92.00</td>\n",
       "      <td>58.70</td>\n",
       "      <td>1.33</td>\n",
       "      <td>1.0</td>\n",
       "    </tr>\n",
       "    <tr>\n",
       "      <th>3</th>\n",
       "      <td>Apr 12, 2021</td>\n",
       "      <td>41.5555</td>\n",
       "      <td>-7.0</td>\n",
       "      <td>92.00</td>\n",
       "      <td>58.70</td>\n",
       "      <td>1.33</td>\n",
       "      <td>1.0</td>\n",
       "    </tr>\n",
       "    <tr>\n",
       "      <th>4</th>\n",
       "      <td>Apr 09, 2021</td>\n",
       "      <td>41.5227</td>\n",
       "      <td>-7.0</td>\n",
       "      <td>92.00</td>\n",
       "      <td>58.70</td>\n",
       "      <td>1.33</td>\n",
       "      <td>1.0</td>\n",
       "    </tr>\n",
       "    <tr>\n",
       "      <th>...</th>\n",
       "      <td>...</td>\n",
       "      <td>...</td>\n",
       "      <td>...</td>\n",
       "      <td>...</td>\n",
       "      <td>...</td>\n",
       "      <td>...</td>\n",
       "      <td>...</td>\n",
       "    </tr>\n",
       "    <tr>\n",
       "      <th>2679</th>\n",
       "      <td>Jan 07, 2011</td>\n",
       "      <td>16.6415</td>\n",
       "      <td>-129.9</td>\n",
       "      <td>31.95</td>\n",
       "      <td>2.56</td>\n",
       "      <td>1.51</td>\n",
       "      <td>1.0</td>\n",
       "    </tr>\n",
       "    <tr>\n",
       "      <th>2680</th>\n",
       "      <td>Jan 06, 2011</td>\n",
       "      <td>16.6420</td>\n",
       "      <td>-129.9</td>\n",
       "      <td>31.95</td>\n",
       "      <td>2.56</td>\n",
       "      <td>1.51</td>\n",
       "      <td>1.0</td>\n",
       "    </tr>\n",
       "    <tr>\n",
       "      <th>2681</th>\n",
       "      <td>Jan 05, 2011</td>\n",
       "      <td>16.6390</td>\n",
       "      <td>-129.9</td>\n",
       "      <td>31.95</td>\n",
       "      <td>2.56</td>\n",
       "      <td>1.51</td>\n",
       "      <td>1.0</td>\n",
       "    </tr>\n",
       "    <tr>\n",
       "      <th>2682</th>\n",
       "      <td>Jan 04, 2011</td>\n",
       "      <td>16.6360</td>\n",
       "      <td>-129.9</td>\n",
       "      <td>31.95</td>\n",
       "      <td>2.56</td>\n",
       "      <td>1.51</td>\n",
       "      <td>1.0</td>\n",
       "    </tr>\n",
       "    <tr>\n",
       "      <th>2683</th>\n",
       "      <td>Jan 03, 2011</td>\n",
       "      <td>16.6335</td>\n",
       "      <td>-129.9</td>\n",
       "      <td>31.95</td>\n",
       "      <td>2.56</td>\n",
       "      <td>1.51</td>\n",
       "      <td>1.0</td>\n",
       "    </tr>\n",
       "  </tbody>\n",
       "</table>\n",
       "<p>2684 rows × 7 columns</p>\n",
       "</div>"
      ],
      "text/plain": [
       "              Date    Price  Eth_Imp_Exp_Blnc    GDB   Debt   PST  USD\n",
       "0     Apr 15, 2021  41.6969              -7.0  92.00  58.70  1.33  1.0\n",
       "1     Apr 14, 2021  41.6150              -7.0  92.00  58.70  1.33  1.0\n",
       "2     Apr 13, 2021  41.5825              -7.0  92.00  58.70  1.33  1.0\n",
       "3     Apr 12, 2021  41.5555              -7.0  92.00  58.70  1.33  1.0\n",
       "4     Apr 09, 2021  41.5227              -7.0  92.00  58.70  1.33  1.0\n",
       "...            ...      ...               ...    ...    ...   ...  ...\n",
       "2679  Jan 07, 2011  16.6415            -129.9  31.95   2.56  1.51  1.0\n",
       "2680  Jan 06, 2011  16.6420            -129.9  31.95   2.56  1.51  1.0\n",
       "2681  Jan 05, 2011  16.6390            -129.9  31.95   2.56  1.51  1.0\n",
       "2682  Jan 04, 2011  16.6360            -129.9  31.95   2.56  1.51  1.0\n",
       "2683  Jan 03, 2011  16.6335            -129.9  31.95   2.56  1.51  1.0\n",
       "\n",
       "[2684 rows x 7 columns]"
      ]
     },
     "execution_count": 11,
     "metadata": {},
     "output_type": "execute_result"
    }
   ],
   "source": [
    "req_Data"
   ]
  },
  {
   "cell_type": "code",
   "execution_count": 12,
   "metadata": {},
   "outputs": [],
   "source": [
    "#re_arrange Data \n",
    "\n",
    "req_Data = req_Data[['Date' , \"Price\"  , \"Eth_Imp_Exp_Blnc\" , \"GDB\" , \"Debt\" , \"PST\"]]"
   ]
  },
  {
   "cell_type": "code",
   "execution_count": 13,
   "metadata": {
    "scrolled": true
   },
   "outputs": [
    {
     "name": "stderr",
     "output_type": "stream",
     "text": [
      "<ipython-input-13-f746e52afecc>:1: SettingWithCopyWarning: \n",
      "A value is trying to be set on a copy of a slice from a DataFrame.\n",
      "Try using .loc[row_indexer,col_indexer] = value instead\n",
      "\n",
      "See the caveats in the documentation: https://pandas.pydata.org/pandas-docs/stable/user_guide/indexing.html#returning-a-view-versus-a-copy\n",
      "  req_Data[\"Date\"] = Data[\"Date\"]\n",
      "<ipython-input-3-4fde800398f3>:42: SettingWithCopyWarning: \n",
      "A value is trying to be set on a copy of a slice from a DataFrame\n",
      "\n",
      "See the caveats in the documentation: https://pandas.pydata.org/pandas-docs/stable/user_guide/indexing.html#returning-a-view-versus-a-copy\n",
      "  new_dates[i] = new_date\n",
      "<ipython-input-13-f746e52afecc>:2: SettingWithCopyWarning: \n",
      "A value is trying to be set on a copy of a slice from a DataFrame\n",
      "\n",
      "See the caveats in the documentation: https://pandas.pydata.org/pandas-docs/stable/user_guide/indexing.html#returning-a-view-versus-a-copy\n",
      "  new_Dates = normalize_Date_col(req_Data[\"Date\"])\n"
     ]
    }
   ],
   "source": [
    "\n",
    "req_Data[\"Date\"] = Data[\"Date\"]\n",
    "new_Dates = normalize_Date_col(req_Data[\"Date\"])"
   ]
  },
  {
   "cell_type": "code",
   "execution_count": 14,
   "metadata": {},
   "outputs": [
    {
     "data": {
      "text/html": [
       "<div>\n",
       "<style scoped>\n",
       "    .dataframe tbody tr th:only-of-type {\n",
       "        vertical-align: middle;\n",
       "    }\n",
       "\n",
       "    .dataframe tbody tr th {\n",
       "        vertical-align: top;\n",
       "    }\n",
       "\n",
       "    .dataframe thead th {\n",
       "        text-align: right;\n",
       "    }\n",
       "</style>\n",
       "<table border=\"1\" class=\"dataframe\">\n",
       "  <thead>\n",
       "    <tr style=\"text-align: right;\">\n",
       "      <th></th>\n",
       "      <th>Date</th>\n",
       "      <th>Price</th>\n",
       "      <th>Eth_Imp_Exp_Blnc</th>\n",
       "      <th>GDB</th>\n",
       "      <th>Debt</th>\n",
       "      <th>PST</th>\n",
       "    </tr>\n",
       "  </thead>\n",
       "  <tbody>\n",
       "    <tr>\n",
       "      <th>0</th>\n",
       "      <td>2021-04-15</td>\n",
       "      <td>41.6969</td>\n",
       "      <td>-7.0</td>\n",
       "      <td>92.00</td>\n",
       "      <td>58.70</td>\n",
       "      <td>1.33</td>\n",
       "    </tr>\n",
       "    <tr>\n",
       "      <th>1</th>\n",
       "      <td>2021-04-14</td>\n",
       "      <td>41.6150</td>\n",
       "      <td>-7.0</td>\n",
       "      <td>92.00</td>\n",
       "      <td>58.70</td>\n",
       "      <td>1.33</td>\n",
       "    </tr>\n",
       "    <tr>\n",
       "      <th>2</th>\n",
       "      <td>2021-04-13</td>\n",
       "      <td>41.5825</td>\n",
       "      <td>-7.0</td>\n",
       "      <td>92.00</td>\n",
       "      <td>58.70</td>\n",
       "      <td>1.33</td>\n",
       "    </tr>\n",
       "    <tr>\n",
       "      <th>3</th>\n",
       "      <td>2021-04-12</td>\n",
       "      <td>41.5555</td>\n",
       "      <td>-7.0</td>\n",
       "      <td>92.00</td>\n",
       "      <td>58.70</td>\n",
       "      <td>1.33</td>\n",
       "    </tr>\n",
       "    <tr>\n",
       "      <th>4</th>\n",
       "      <td>2021-04-09</td>\n",
       "      <td>41.5227</td>\n",
       "      <td>-7.0</td>\n",
       "      <td>92.00</td>\n",
       "      <td>58.70</td>\n",
       "      <td>1.33</td>\n",
       "    </tr>\n",
       "    <tr>\n",
       "      <th>...</th>\n",
       "      <td>...</td>\n",
       "      <td>...</td>\n",
       "      <td>...</td>\n",
       "      <td>...</td>\n",
       "      <td>...</td>\n",
       "      <td>...</td>\n",
       "    </tr>\n",
       "    <tr>\n",
       "      <th>2679</th>\n",
       "      <td>2011-01-07</td>\n",
       "      <td>16.6415</td>\n",
       "      <td>-129.9</td>\n",
       "      <td>31.95</td>\n",
       "      <td>2.56</td>\n",
       "      <td>1.51</td>\n",
       "    </tr>\n",
       "    <tr>\n",
       "      <th>2680</th>\n",
       "      <td>2011-01-06</td>\n",
       "      <td>16.6420</td>\n",
       "      <td>-129.9</td>\n",
       "      <td>31.95</td>\n",
       "      <td>2.56</td>\n",
       "      <td>1.51</td>\n",
       "    </tr>\n",
       "    <tr>\n",
       "      <th>2681</th>\n",
       "      <td>2011-01-05</td>\n",
       "      <td>16.6390</td>\n",
       "      <td>-129.9</td>\n",
       "      <td>31.95</td>\n",
       "      <td>2.56</td>\n",
       "      <td>1.51</td>\n",
       "    </tr>\n",
       "    <tr>\n",
       "      <th>2682</th>\n",
       "      <td>2011-01-04</td>\n",
       "      <td>16.6360</td>\n",
       "      <td>-129.9</td>\n",
       "      <td>31.95</td>\n",
       "      <td>2.56</td>\n",
       "      <td>1.51</td>\n",
       "    </tr>\n",
       "    <tr>\n",
       "      <th>2683</th>\n",
       "      <td>2011-01-03</td>\n",
       "      <td>16.6335</td>\n",
       "      <td>-129.9</td>\n",
       "      <td>31.95</td>\n",
       "      <td>2.56</td>\n",
       "      <td>1.51</td>\n",
       "    </tr>\n",
       "  </tbody>\n",
       "</table>\n",
       "<p>2684 rows × 6 columns</p>\n",
       "</div>"
      ],
      "text/plain": [
       "            Date    Price  Eth_Imp_Exp_Blnc    GDB   Debt   PST\n",
       "0     2021-04-15  41.6969              -7.0  92.00  58.70  1.33\n",
       "1     2021-04-14  41.6150              -7.0  92.00  58.70  1.33\n",
       "2     2021-04-13  41.5825              -7.0  92.00  58.70  1.33\n",
       "3     2021-04-12  41.5555              -7.0  92.00  58.70  1.33\n",
       "4     2021-04-09  41.5227              -7.0  92.00  58.70  1.33\n",
       "...          ...      ...               ...    ...    ...   ...\n",
       "2679  2011-01-07  16.6415            -129.9  31.95   2.56  1.51\n",
       "2680  2011-01-06  16.6420            -129.9  31.95   2.56  1.51\n",
       "2681  2011-01-05  16.6390            -129.9  31.95   2.56  1.51\n",
       "2682  2011-01-04  16.6360            -129.9  31.95   2.56  1.51\n",
       "2683  2011-01-03  16.6335            -129.9  31.95   2.56  1.51\n",
       "\n",
       "[2684 rows x 6 columns]"
      ]
     },
     "execution_count": 14,
     "metadata": {},
     "output_type": "execute_result"
    }
   ],
   "source": [
    "req_Data"
   ]
  },
  {
   "cell_type": "code",
   "execution_count": 15,
   "metadata": {},
   "outputs": [
    {
     "name": "stderr",
     "output_type": "stream",
     "text": [
      "<ipython-input-15-1a5228b60450>:1: SettingWithCopyWarning: \n",
      "A value is trying to be set on a copy of a slice from a DataFrame.\n",
      "Try using .loc[row_indexer,col_indexer] = value instead\n",
      "\n",
      "See the caveats in the documentation: https://pandas.pydata.org/pandas-docs/stable/user_guide/indexing.html#returning-a-view-versus-a-copy\n",
      "  req_Data[\"Date\"] = pd.to_datetime(req_Data[\"Date\"])\n"
     ]
    }
   ],
   "source": [
    "req_Data[\"Date\"] = pd.to_datetime(req_Data[\"Date\"])"
   ]
  },
  {
   "cell_type": "code",
   "execution_count": 16,
   "metadata": {},
   "outputs": [
    {
     "data": {
      "text/html": [
       "<div>\n",
       "<style scoped>\n",
       "    .dataframe tbody tr th:only-of-type {\n",
       "        vertical-align: middle;\n",
       "    }\n",
       "\n",
       "    .dataframe tbody tr th {\n",
       "        vertical-align: top;\n",
       "    }\n",
       "\n",
       "    .dataframe thead th {\n",
       "        text-align: right;\n",
       "    }\n",
       "</style>\n",
       "<table border=\"1\" class=\"dataframe\">\n",
       "  <thead>\n",
       "    <tr style=\"text-align: right;\">\n",
       "      <th></th>\n",
       "      <th>Date</th>\n",
       "      <th>Price</th>\n",
       "      <th>Eth_Imp_Exp_Blnc</th>\n",
       "      <th>GDB</th>\n",
       "      <th>Debt</th>\n",
       "      <th>PST</th>\n",
       "    </tr>\n",
       "  </thead>\n",
       "  <tbody>\n",
       "    <tr>\n",
       "      <th>0</th>\n",
       "      <td>2021-04-15</td>\n",
       "      <td>41.6969</td>\n",
       "      <td>-7.0</td>\n",
       "      <td>92.00</td>\n",
       "      <td>58.70</td>\n",
       "      <td>1.33</td>\n",
       "    </tr>\n",
       "    <tr>\n",
       "      <th>1</th>\n",
       "      <td>2021-04-14</td>\n",
       "      <td>41.6150</td>\n",
       "      <td>-7.0</td>\n",
       "      <td>92.00</td>\n",
       "      <td>58.70</td>\n",
       "      <td>1.33</td>\n",
       "    </tr>\n",
       "    <tr>\n",
       "      <th>2</th>\n",
       "      <td>2021-04-13</td>\n",
       "      <td>41.5825</td>\n",
       "      <td>-7.0</td>\n",
       "      <td>92.00</td>\n",
       "      <td>58.70</td>\n",
       "      <td>1.33</td>\n",
       "    </tr>\n",
       "    <tr>\n",
       "      <th>3</th>\n",
       "      <td>2021-04-12</td>\n",
       "      <td>41.5555</td>\n",
       "      <td>-7.0</td>\n",
       "      <td>92.00</td>\n",
       "      <td>58.70</td>\n",
       "      <td>1.33</td>\n",
       "    </tr>\n",
       "    <tr>\n",
       "      <th>4</th>\n",
       "      <td>2021-04-09</td>\n",
       "      <td>41.5227</td>\n",
       "      <td>-7.0</td>\n",
       "      <td>92.00</td>\n",
       "      <td>58.70</td>\n",
       "      <td>1.33</td>\n",
       "    </tr>\n",
       "    <tr>\n",
       "      <th>...</th>\n",
       "      <td>...</td>\n",
       "      <td>...</td>\n",
       "      <td>...</td>\n",
       "      <td>...</td>\n",
       "      <td>...</td>\n",
       "      <td>...</td>\n",
       "    </tr>\n",
       "    <tr>\n",
       "      <th>2679</th>\n",
       "      <td>2011-01-07</td>\n",
       "      <td>16.6415</td>\n",
       "      <td>-129.9</td>\n",
       "      <td>31.95</td>\n",
       "      <td>2.56</td>\n",
       "      <td>1.51</td>\n",
       "    </tr>\n",
       "    <tr>\n",
       "      <th>2680</th>\n",
       "      <td>2011-01-06</td>\n",
       "      <td>16.6420</td>\n",
       "      <td>-129.9</td>\n",
       "      <td>31.95</td>\n",
       "      <td>2.56</td>\n",
       "      <td>1.51</td>\n",
       "    </tr>\n",
       "    <tr>\n",
       "      <th>2681</th>\n",
       "      <td>2011-01-05</td>\n",
       "      <td>16.6390</td>\n",
       "      <td>-129.9</td>\n",
       "      <td>31.95</td>\n",
       "      <td>2.56</td>\n",
       "      <td>1.51</td>\n",
       "    </tr>\n",
       "    <tr>\n",
       "      <th>2682</th>\n",
       "      <td>2011-01-04</td>\n",
       "      <td>16.6360</td>\n",
       "      <td>-129.9</td>\n",
       "      <td>31.95</td>\n",
       "      <td>2.56</td>\n",
       "      <td>1.51</td>\n",
       "    </tr>\n",
       "    <tr>\n",
       "      <th>2683</th>\n",
       "      <td>2011-01-03</td>\n",
       "      <td>16.6335</td>\n",
       "      <td>-129.9</td>\n",
       "      <td>31.95</td>\n",
       "      <td>2.56</td>\n",
       "      <td>1.51</td>\n",
       "    </tr>\n",
       "  </tbody>\n",
       "</table>\n",
       "<p>2684 rows × 6 columns</p>\n",
       "</div>"
      ],
      "text/plain": [
       "           Date    Price  Eth_Imp_Exp_Blnc    GDB   Debt   PST\n",
       "0    2021-04-15  41.6969              -7.0  92.00  58.70  1.33\n",
       "1    2021-04-14  41.6150              -7.0  92.00  58.70  1.33\n",
       "2    2021-04-13  41.5825              -7.0  92.00  58.70  1.33\n",
       "3    2021-04-12  41.5555              -7.0  92.00  58.70  1.33\n",
       "4    2021-04-09  41.5227              -7.0  92.00  58.70  1.33\n",
       "...         ...      ...               ...    ...    ...   ...\n",
       "2679 2011-01-07  16.6415            -129.9  31.95   2.56  1.51\n",
       "2680 2011-01-06  16.6420            -129.9  31.95   2.56  1.51\n",
       "2681 2011-01-05  16.6390            -129.9  31.95   2.56  1.51\n",
       "2682 2011-01-04  16.6360            -129.9  31.95   2.56  1.51\n",
       "2683 2011-01-03  16.6335            -129.9  31.95   2.56  1.51\n",
       "\n",
       "[2684 rows x 6 columns]"
      ]
     },
     "execution_count": 16,
     "metadata": {},
     "output_type": "execute_result"
    }
   ],
   "source": [
    "req_Data"
   ]
  },
  {
   "cell_type": "code",
   "execution_count": 212,
   "metadata": {},
   "outputs": [],
   "source": [
    "#lets visualize some data \n",
    "\n",
    "#import mathplot"
   ]
  },
  {
   "cell_type": "code",
   "execution_count": 17,
   "metadata": {},
   "outputs": [
    {
     "data": {
      "image/png": "[encoded data removed]",
      "text/plain": [
       "<Figure size 1152x576 with 1 Axes>"
      ]
     },
     "metadata": {
      "needs_background": "light"
     },
     "output_type": "display_data"
    }
   ],
   "source": [
    "\n",
    "plt.figure(figsize = (16,8))\n",
    "plt.plot( req_Data[\"Date\"] , req_Data['Price'])\n",
    "\n",
    "plt.xlabel('Date' , fontsize=\"20\")\n",
    "plt.ylabel('USD to ETB Exchange Price ' , fontsize = \"20\" )\n",
    "plt.title('USD to ETB Exchange Price for the past 10 years ' , fontsize = \"20\")\n",
    "plt.grid()\n",
    "\n",
    "plt.show()"
   ]
  },
  {
   "cell_type": "markdown",
   "metadata": {},
   "source": [
    "# Exchange Rate and other factors through time \n",
    "\n",
    "fig, ax = plt.subplots()\n",
    "\n",
    "ax.plot( req_Data[\"Date\"] , req_Data['Price'] , label='Exchange Rate')\n",
    "\n",
    "ax.plot( req_Data[\"Date\"] , req_Data['GDB'] , label = \"GDB\")\n",
    "ax.plot( req_Data[\"Date\"] , req_Data['Debt'] , label = \"Dept\")\n",
    "ax.plot( req_Data[\"Date\"] , req_Data['PST'] , label = \"PST \")\n",
    "ax.plot( req_Data[\"Date\"] , req_Data['Eth_Imp_Exp_Blnc'] , label = \"Eth_Imp_Exp_Blnc \")\n",
    "\n",
    "ax.set(xlabel='Date', ylabel='Histories',\n",
    "       title='USD to ETB Exchange Price for the past 10 years ')\n",
    "ax.grid()\n",
    "ax.legend()\n",
    "plt.show()\n",
    "\n"
   ]
  },
  {
   "cell_type": "code",
   "execution_count": 18,
   "metadata": {},
   "outputs": [
    {
     "data": {
      "text/html": [
       "<div>\n",
       "<style scoped>\n",
       "    .dataframe tbody tr th:only-of-type {\n",
       "        vertical-align: middle;\n",
       "    }\n",
       "\n",
       "    .dataframe tbody tr th {\n",
       "        vertical-align: top;\n",
       "    }\n",
       "\n",
       "    .dataframe thead th {\n",
       "        text-align: right;\n",
       "    }\n",
       "</style>\n",
       "<table border=\"1\" class=\"dataframe\">\n",
       "  <thead>\n",
       "    <tr style=\"text-align: right;\">\n",
       "      <th></th>\n",
       "      <th>Price</th>\n",
       "      <th>Eth_Imp_Exp_Blnc</th>\n",
       "      <th>GDB</th>\n",
       "      <th>Debt</th>\n",
       "      <th>PST</th>\n",
       "    </tr>\n",
       "  </thead>\n",
       "  <tbody>\n",
       "    <tr>\n",
       "      <th>count</th>\n",
       "      <td>2684.000000</td>\n",
       "      <td>2684.000000</td>\n",
       "      <td>2684.000000</td>\n",
       "      <td>2684.000000</td>\n",
       "      <td>2684.00000</td>\n",
       "    </tr>\n",
       "    <tr>\n",
       "      <th>mean</th>\n",
       "      <td>23.671885</td>\n",
       "      <td>-61.451602</td>\n",
       "      <td>68.197949</td>\n",
       "      <td>37.526788</td>\n",
       "      <td>-0.78598</td>\n",
       "    </tr>\n",
       "    <tr>\n",
       "      <th>std</th>\n",
       "      <td>6.214876</td>\n",
       "      <td>91.861573</td>\n",
       "      <td>21.348068</td>\n",
       "      <td>16.937466</td>\n",
       "      <td>1.23324</td>\n",
       "    </tr>\n",
       "    <tr>\n",
       "      <th>min</th>\n",
       "      <td>16.633500</td>\n",
       "      <td>-426.300000</td>\n",
       "      <td>31.950000</td>\n",
       "      <td>2.560000</td>\n",
       "      <td>-1.68000</td>\n",
       "    </tr>\n",
       "    <tr>\n",
       "      <th>25%</th>\n",
       "      <td>18.805250</td>\n",
       "      <td>-119.000000</td>\n",
       "      <td>47.650000</td>\n",
       "      <td>28.600000</td>\n",
       "      <td>-1.50000</td>\n",
       "    </tr>\n",
       "    <tr>\n",
       "      <th>50%</th>\n",
       "      <td>21.413000</td>\n",
       "      <td>-25.700000</td>\n",
       "      <td>74.300000</td>\n",
       "      <td>34.900000</td>\n",
       "      <td>-1.34000</td>\n",
       "    </tr>\n",
       "    <tr>\n",
       "      <th>75%</th>\n",
       "      <td>27.716525</td>\n",
       "      <td>-0.200000</td>\n",
       "      <td>84.270000</td>\n",
       "      <td>57.000000</td>\n",
       "      <td>-1.27000</td>\n",
       "    </tr>\n",
       "    <tr>\n",
       "      <th>max</th>\n",
       "      <td>41.696900</td>\n",
       "      <td>37.500000</td>\n",
       "      <td>95.910000</td>\n",
       "      <td>60.000000</td>\n",
       "      <td>1.56000</td>\n",
       "    </tr>\n",
       "  </tbody>\n",
       "</table>\n",
       "</div>"
      ],
      "text/plain": [
       "             Price  Eth_Imp_Exp_Blnc          GDB         Debt         PST\n",
       "count  2684.000000       2684.000000  2684.000000  2684.000000  2684.00000\n",
       "mean     23.671885        -61.451602    68.197949    37.526788    -0.78598\n",
       "std       6.214876         91.861573    21.348068    16.937466     1.23324\n",
       "min      16.633500       -426.300000    31.950000     2.560000    -1.68000\n",
       "25%      18.805250       -119.000000    47.650000    28.600000    -1.50000\n",
       "50%      21.413000        -25.700000    74.300000    34.900000    -1.34000\n",
       "75%      27.716525         -0.200000    84.270000    57.000000    -1.27000\n",
       "max      41.696900         37.500000    95.910000    60.000000     1.56000"
      ]
     },
     "execution_count": 18,
     "metadata": {},
     "output_type": "execute_result"
    }
   ],
   "source": [
    "#explain the data \n",
    "req_Data.describe()"
   ]
  },
  {
   "cell_type": "code",
   "execution_count": 214,
   "metadata": {},
   "outputs": [],
   "source": [
    "#Get the Price Column \n",
    "\n"
   ]
  },
  {
   "cell_type": "code",
   "execution_count": 19,
   "metadata": {},
   "outputs": [
    {
     "data": {
      "text/html": [
       "<div>\n",
       "<style scoped>\n",
       "    .dataframe tbody tr th:only-of-type {\n",
       "        vertical-align: middle;\n",
       "    }\n",
       "\n",
       "    .dataframe tbody tr th {\n",
       "        vertical-align: top;\n",
       "    }\n",
       "\n",
       "    .dataframe thead th {\n",
       "        text-align: right;\n",
       "    }\n",
       "</style>\n",
       "<table border=\"1\" class=\"dataframe\">\n",
       "  <thead>\n",
       "    <tr style=\"text-align: right;\">\n",
       "      <th></th>\n",
       "      <th>Price</th>\n",
       "    </tr>\n",
       "  </thead>\n",
       "  <tbody>\n",
       "    <tr>\n",
       "      <th>0</th>\n",
       "      <td>41.6969</td>\n",
       "    </tr>\n",
       "    <tr>\n",
       "      <th>1</th>\n",
       "      <td>41.6150</td>\n",
       "    </tr>\n",
       "    <tr>\n",
       "      <th>2</th>\n",
       "      <td>41.5825</td>\n",
       "    </tr>\n",
       "    <tr>\n",
       "      <th>3</th>\n",
       "      <td>41.5555</td>\n",
       "    </tr>\n",
       "    <tr>\n",
       "      <th>4</th>\n",
       "      <td>41.5227</td>\n",
       "    </tr>\n",
       "    <tr>\n",
       "      <th>...</th>\n",
       "      <td>...</td>\n",
       "    </tr>\n",
       "    <tr>\n",
       "      <th>2679</th>\n",
       "      <td>16.6415</td>\n",
       "    </tr>\n",
       "    <tr>\n",
       "      <th>2680</th>\n",
       "      <td>16.6420</td>\n",
       "    </tr>\n",
       "    <tr>\n",
       "      <th>2681</th>\n",
       "      <td>16.6390</td>\n",
       "    </tr>\n",
       "    <tr>\n",
       "      <th>2682</th>\n",
       "      <td>16.6360</td>\n",
       "    </tr>\n",
       "    <tr>\n",
       "      <th>2683</th>\n",
       "      <td>16.6335</td>\n",
       "    </tr>\n",
       "  </tbody>\n",
       "</table>\n",
       "<p>2684 rows × 1 columns</p>\n",
       "</div>"
      ],
      "text/plain": [
       "        Price\n",
       "0     41.6969\n",
       "1     41.6150\n",
       "2     41.5825\n",
       "3     41.5555\n",
       "4     41.5227\n",
       "...       ...\n",
       "2679  16.6415\n",
       "2680  16.6420\n",
       "2681  16.6390\n",
       "2682  16.6360\n",
       "2683  16.6335\n",
       "\n",
       "[2684 rows x 1 columns]"
      ]
     },
     "execution_count": 19,
     "metadata": {},
     "output_type": "execute_result"
    }
   ],
   "source": [
    "price_Data = req_Data.filter(['Price'])\n",
    "price_Data"
   ]
  },
  {
   "cell_type": "code",
   "execution_count": null,
   "metadata": {},
   "outputs": [],
   "source": []
  },
  {
   "cell_type": "code",
   "execution_count": 20,
   "metadata": {},
   "outputs": [
    {
     "data": {
      "text/plain": [
       "array([[41.6969],\n",
       "       [41.615 ],\n",
       "       [41.5825],\n",
       "       ...,\n",
       "       [16.639 ],\n",
       "       [16.636 ],\n",
       "       [16.6335]])"
      ]
     },
     "execution_count": 20,
     "metadata": {},
     "output_type": "execute_result"
    }
   ],
   "source": [
    "#change to numpy array\n",
    "price_Data = price_Data.values\n",
    "price_Data"
   ]
  },
  {
   "cell_type": "code",
   "execution_count": 21,
   "metadata": {},
   "outputs": [
    {
     "data": {
      "text/html": [
       "<div>\n",
       "<style scoped>\n",
       "    .dataframe tbody tr th:only-of-type {\n",
       "        vertical-align: middle;\n",
       "    }\n",
       "\n",
       "    .dataframe tbody tr th {\n",
       "        vertical-align: top;\n",
       "    }\n",
       "\n",
       "    .dataframe thead th {\n",
       "        text-align: right;\n",
       "    }\n",
       "</style>\n",
       "<table border=\"1\" class=\"dataframe\">\n",
       "  <thead>\n",
       "    <tr style=\"text-align: right;\">\n",
       "      <th></th>\n",
       "      <th>Date</th>\n",
       "      <th>Price</th>\n",
       "      <th>Eth_Imp_Exp_Blnc</th>\n",
       "      <th>GDB</th>\n",
       "      <th>Debt</th>\n",
       "      <th>PST</th>\n",
       "    </tr>\n",
       "  </thead>\n",
       "  <tbody>\n",
       "    <tr>\n",
       "      <th>0</th>\n",
       "      <td>2021-04-15</td>\n",
       "      <td>41.6969</td>\n",
       "      <td>-7.0</td>\n",
       "      <td>92.00</td>\n",
       "      <td>58.70</td>\n",
       "      <td>1.33</td>\n",
       "    </tr>\n",
       "    <tr>\n",
       "      <th>1</th>\n",
       "      <td>2021-04-14</td>\n",
       "      <td>41.6150</td>\n",
       "      <td>-7.0</td>\n",
       "      <td>92.00</td>\n",
       "      <td>58.70</td>\n",
       "      <td>1.33</td>\n",
       "    </tr>\n",
       "    <tr>\n",
       "      <th>2</th>\n",
       "      <td>2021-04-13</td>\n",
       "      <td>41.5825</td>\n",
       "      <td>-7.0</td>\n",
       "      <td>92.00</td>\n",
       "      <td>58.70</td>\n",
       "      <td>1.33</td>\n",
       "    </tr>\n",
       "    <tr>\n",
       "      <th>3</th>\n",
       "      <td>2021-04-12</td>\n",
       "      <td>41.5555</td>\n",
       "      <td>-7.0</td>\n",
       "      <td>92.00</td>\n",
       "      <td>58.70</td>\n",
       "      <td>1.33</td>\n",
       "    </tr>\n",
       "    <tr>\n",
       "      <th>4</th>\n",
       "      <td>2021-04-09</td>\n",
       "      <td>41.5227</td>\n",
       "      <td>-7.0</td>\n",
       "      <td>92.00</td>\n",
       "      <td>58.70</td>\n",
       "      <td>1.33</td>\n",
       "    </tr>\n",
       "    <tr>\n",
       "      <th>...</th>\n",
       "      <td>...</td>\n",
       "      <td>...</td>\n",
       "      <td>...</td>\n",
       "      <td>...</td>\n",
       "      <td>...</td>\n",
       "      <td>...</td>\n",
       "    </tr>\n",
       "    <tr>\n",
       "      <th>2679</th>\n",
       "      <td>2011-01-07</td>\n",
       "      <td>16.6415</td>\n",
       "      <td>-129.9</td>\n",
       "      <td>31.95</td>\n",
       "      <td>2.56</td>\n",
       "      <td>1.51</td>\n",
       "    </tr>\n",
       "    <tr>\n",
       "      <th>2680</th>\n",
       "      <td>2011-01-06</td>\n",
       "      <td>16.6420</td>\n",
       "      <td>-129.9</td>\n",
       "      <td>31.95</td>\n",
       "      <td>2.56</td>\n",
       "      <td>1.51</td>\n",
       "    </tr>\n",
       "    <tr>\n",
       "      <th>2681</th>\n",
       "      <td>2011-01-05</td>\n",
       "      <td>16.6390</td>\n",
       "      <td>-129.9</td>\n",
       "      <td>31.95</td>\n",
       "      <td>2.56</td>\n",
       "      <td>1.51</td>\n",
       "    </tr>\n",
       "    <tr>\n",
       "      <th>2682</th>\n",
       "      <td>2011-01-04</td>\n",
       "      <td>16.6360</td>\n",
       "      <td>-129.9</td>\n",
       "      <td>31.95</td>\n",
       "      <td>2.56</td>\n",
       "      <td>1.51</td>\n",
       "    </tr>\n",
       "    <tr>\n",
       "      <th>2683</th>\n",
       "      <td>2011-01-03</td>\n",
       "      <td>16.6335</td>\n",
       "      <td>-129.9</td>\n",
       "      <td>31.95</td>\n",
       "      <td>2.56</td>\n",
       "      <td>1.51</td>\n",
       "    </tr>\n",
       "  </tbody>\n",
       "</table>\n",
       "<p>2684 rows × 6 columns</p>\n",
       "</div>"
      ],
      "text/plain": [
       "           Date    Price  Eth_Imp_Exp_Blnc    GDB   Debt   PST\n",
       "0    2021-04-15  41.6969              -7.0  92.00  58.70  1.33\n",
       "1    2021-04-14  41.6150              -7.0  92.00  58.70  1.33\n",
       "2    2021-04-13  41.5825              -7.0  92.00  58.70  1.33\n",
       "3    2021-04-12  41.5555              -7.0  92.00  58.70  1.33\n",
       "4    2021-04-09  41.5227              -7.0  92.00  58.70  1.33\n",
       "...         ...      ...               ...    ...    ...   ...\n",
       "2679 2011-01-07  16.6415            -129.9  31.95   2.56  1.51\n",
       "2680 2011-01-06  16.6420            -129.9  31.95   2.56  1.51\n",
       "2681 2011-01-05  16.6390            -129.9  31.95   2.56  1.51\n",
       "2682 2011-01-04  16.6360            -129.9  31.95   2.56  1.51\n",
       "2683 2011-01-03  16.6335            -129.9  31.95   2.56  1.51\n",
       "\n",
       "[2684 rows x 6 columns]"
      ]
     },
     "execution_count": 21,
     "metadata": {},
     "output_type": "execute_result"
    }
   ],
   "source": [
    "req_Data"
   ]
  },
  {
   "cell_type": "code",
   "execution_count": null,
   "metadata": {},
   "outputs": [],
   "source": []
  },
  {
   "cell_type": "code",
   "execution_count": 218,
   "metadata": {},
   "outputs": [],
   "source": [
    "#prepare the data in X (independant variable ) and Y (dependannt variable)"
   ]
  },
  {
   "cell_type": "code",
   "execution_count": 22,
   "metadata": {},
   "outputs": [],
   "source": [
    "x = req_Data[['Date','Eth_Imp_Exp_Blnc' , 'GDB' , 'Debt' , 'PST']]"
   ]
  },
  {
   "cell_type": "code",
   "execution_count": 23,
   "metadata": {},
   "outputs": [
    {
     "name": "stderr",
     "output_type": "stream",
     "text": [
      "<ipython-input-23-fcd9041cbd55>:1: SettingWithCopyWarning: \n",
      "A value is trying to be set on a copy of a slice from a DataFrame.\n",
      "Try using .loc[row_indexer,col_indexer] = value instead\n",
      "\n",
      "See the caveats in the documentation: https://pandas.pydata.org/pandas-docs/stable/user_guide/indexing.html#returning-a-view-versus-a-copy\n",
      "  x['Date'] = x['Date'].map(datetime.toordinal)\n"
     ]
    }
   ],
   "source": [
    "x['Date'] = x['Date'].map(datetime.toordinal)"
   ]
  },
  {
   "cell_type": "code",
   "execution_count": 25,
   "metadata": {},
   "outputs": [
    {
     "data": {
      "text/html": [
       "<div>\n",
       "<style scoped>\n",
       "    .dataframe tbody tr th:only-of-type {\n",
       "        vertical-align: middle;\n",
       "    }\n",
       "\n",
       "    .dataframe tbody tr th {\n",
       "        vertical-align: top;\n",
       "    }\n",
       "\n",
       "    .dataframe thead th {\n",
       "        text-align: right;\n",
       "    }\n",
       "</style>\n",
       "<table border=\"1\" class=\"dataframe\">\n",
       "  <thead>\n",
       "    <tr style=\"text-align: right;\">\n",
       "      <th></th>\n",
       "      <th>Date</th>\n",
       "      <th>Eth_Imp_Exp_Blnc</th>\n",
       "      <th>GDB</th>\n",
       "      <th>Debt</th>\n",
       "      <th>PST</th>\n",
       "    </tr>\n",
       "  </thead>\n",
       "  <tbody>\n",
       "    <tr>\n",
       "      <th>count</th>\n",
       "      <td>2684.000000</td>\n",
       "      <td>2684.000000</td>\n",
       "      <td>2684.000000</td>\n",
       "      <td>2684.000000</td>\n",
       "      <td>2684.00000</td>\n",
       "    </tr>\n",
       "    <tr>\n",
       "      <th>mean</th>\n",
       "      <td>736017.300298</td>\n",
       "      <td>-61.451602</td>\n",
       "      <td>68.197949</td>\n",
       "      <td>37.526788</td>\n",
       "      <td>-0.78598</td>\n",
       "    </tr>\n",
       "    <tr>\n",
       "      <th>std</th>\n",
       "      <td>1084.927370</td>\n",
       "      <td>91.861573</td>\n",
       "      <td>21.348068</td>\n",
       "      <td>16.937466</td>\n",
       "      <td>1.23324</td>\n",
       "    </tr>\n",
       "    <tr>\n",
       "      <th>min</th>\n",
       "      <td>734140.000000</td>\n",
       "      <td>-426.300000</td>\n",
       "      <td>31.950000</td>\n",
       "      <td>2.560000</td>\n",
       "      <td>-1.68000</td>\n",
       "    </tr>\n",
       "    <tr>\n",
       "      <th>25%</th>\n",
       "      <td>735078.750000</td>\n",
       "      <td>-119.000000</td>\n",
       "      <td>47.650000</td>\n",
       "      <td>28.600000</td>\n",
       "      <td>-1.50000</td>\n",
       "    </tr>\n",
       "    <tr>\n",
       "      <th>50%</th>\n",
       "      <td>736017.500000</td>\n",
       "      <td>-25.700000</td>\n",
       "      <td>74.300000</td>\n",
       "      <td>34.900000</td>\n",
       "      <td>-1.34000</td>\n",
       "    </tr>\n",
       "    <tr>\n",
       "      <th>75%</th>\n",
       "      <td>736956.250000</td>\n",
       "      <td>-0.200000</td>\n",
       "      <td>84.270000</td>\n",
       "      <td>57.000000</td>\n",
       "      <td>-1.27000</td>\n",
       "    </tr>\n",
       "    <tr>\n",
       "      <th>max</th>\n",
       "      <td>737895.000000</td>\n",
       "      <td>37.500000</td>\n",
       "      <td>95.910000</td>\n",
       "      <td>60.000000</td>\n",
       "      <td>1.56000</td>\n",
       "    </tr>\n",
       "  </tbody>\n",
       "</table>\n",
       "</div>"
      ],
      "text/plain": [
       "                Date  Eth_Imp_Exp_Blnc          GDB         Debt         PST\n",
       "count    2684.000000       2684.000000  2684.000000  2684.000000  2684.00000\n",
       "mean   736017.300298        -61.451602    68.197949    37.526788    -0.78598\n",
       "std      1084.927370         91.861573    21.348068    16.937466     1.23324\n",
       "min    734140.000000       -426.300000    31.950000     2.560000    -1.68000\n",
       "25%    735078.750000       -119.000000    47.650000    28.600000    -1.50000\n",
       "50%    736017.500000        -25.700000    74.300000    34.900000    -1.34000\n",
       "75%    736956.250000         -0.200000    84.270000    57.000000    -1.27000\n",
       "max    737895.000000         37.500000    95.910000    60.000000     1.56000"
      ]
     },
     "execution_count": 25,
     "metadata": {},
     "output_type": "execute_result"
    }
   ],
   "source": [
    "x.describe()"
   ]
  },
  {
   "cell_type": "code",
   "execution_count": 26,
   "metadata": {},
   "outputs": [],
   "source": [
    "y = req_Data['Price']"
   ]
  },
  {
   "cell_type": "code",
   "execution_count": 294,
   "metadata": {},
   "outputs": [],
   "source": [
    "#lets split the data into train and test data 80/20\n",
    "# we use the sklearn library \n",
    "\n",
    "#x_train, x_test, y_train, y_test = train_test_split(x, y, test_size=0.2, random_state=0)\n"
   ]
  },
  {
   "cell_type": "code",
   "execution_count": 44,
   "metadata": {},
   "outputs": [],
   "source": [
    "#lets train 4 years of data to our model and predict one month(after the 4 years) \n",
    "\n",
    "x_train1 , y_train1 , x_test1 , y_test1 = x.iloc[1641:,] , y.iloc[1641:,] , x.iloc[1619:1642,] , y.iloc[1619:1642,]\n"
   ]
  },
  {
   "cell_type": "code",
   "execution_count": 43,
   "metadata": {},
   "outputs": [
    {
     "data": {
      "text/plain": [
       "(23, 5)"
      ]
     },
     "execution_count": 43,
     "metadata": {},
     "output_type": "execute_result"
    }
   ],
   "source": []
  },
  {
   "cell_type": "code",
   "execution_count": 45,
   "metadata": {},
   "outputs": [
    {
     "data": {
      "text/plain": [
       "((1043, 5), (2684, 5), (23, 5))"
      ]
     },
     "execution_count": 45,
     "metadata": {},
     "output_type": "execute_result"
    }
   ],
   "source": [
    "x_train1.shape , x.shape , x_test1.shape"
   ]
  },
  {
   "cell_type": "code",
   "execution_count": 47,
   "metadata": {},
   "outputs": [],
   "source": [
    "#Next step is to train the model \n",
    "\n",
    "#we used Multiple Linear Regressionn \n",
    "\n",
    "regressor = LinearRegression()\n"
   ]
  },
  {
   "cell_type": "code",
   "execution_count": 48,
   "metadata": {},
   "outputs": [
    {
     "data": {
      "text/plain": [
       "LinearRegression()"
      ]
     },
     "execution_count": 48,
     "metadata": {},
     "output_type": "execute_result"
    }
   ],
   "source": [
    "regressor.fit(x_train1 , y_train1)"
   ]
  },
  {
   "cell_type": "code",
   "execution_count": 298,
   "metadata": {},
   "outputs": [
    {
     "data": {
      "text/plain": [
       "LinearRegression()"
      ]
     },
     "execution_count": 298,
     "metadata": {},
     "output_type": "execute_result"
    }
   ],
   "source": [
    "regressor"
   ]
  },
  {
   "cell_type": "code",
   "execution_count": 49,
   "metadata": {},
   "outputs": [
    {
     "data": {
      "text/plain": [
       "array([ 2.64165261e-03, -8.94470617e-05,  7.18815952e-03, -9.97368338e-03,\n",
       "        1.50200662e-02])"
      ]
     },
     "execution_count": 49,
     "metadata": {},
     "output_type": "execute_result"
    }
   ],
   "source": [
    "regressor.coef_"
   ]
  },
  {
   "cell_type": "code",
   "execution_count": 52,
   "metadata": {},
   "outputs": [],
   "source": [
    "y_pred1 = regressor.predict(x_test1)"
   ]
  },
  {
   "cell_type": "code",
   "execution_count": 53,
   "metadata": {
    "scrolled": false
   },
   "outputs": [
    {
     "data": {
      "text/html": [
       "<div>\n",
       "<style scoped>\n",
       "    .dataframe tbody tr th:only-of-type {\n",
       "        vertical-align: middle;\n",
       "    }\n",
       "\n",
       "    .dataframe tbody tr th {\n",
       "        vertical-align: top;\n",
       "    }\n",
       "\n",
       "    .dataframe thead th {\n",
       "        text-align: right;\n",
       "    }\n",
       "</style>\n",
       "<table border=\"1\" class=\"dataframe\">\n",
       "  <thead>\n",
       "    <tr style=\"text-align: right;\">\n",
       "      <th></th>\n",
       "      <th>Actual</th>\n",
       "      <th>Predicted</th>\n",
       "      <th>Difference</th>\n",
       "    </tr>\n",
       "  </thead>\n",
       "  <tbody>\n",
       "    <tr>\n",
       "      <th>1619</th>\n",
       "      <td>20.4050</td>\n",
       "      <td>20.338602</td>\n",
       "      <td>0.066398</td>\n",
       "    </tr>\n",
       "    <tr>\n",
       "      <th>1620</th>\n",
       "      <td>20.4050</td>\n",
       "      <td>20.335960</td>\n",
       "      <td>0.069040</td>\n",
       "    </tr>\n",
       "    <tr>\n",
       "      <th>1621</th>\n",
       "      <td>20.4300</td>\n",
       "      <td>20.333318</td>\n",
       "      <td>0.096682</td>\n",
       "    </tr>\n",
       "    <tr>\n",
       "      <th>1622</th>\n",
       "      <td>20.4000</td>\n",
       "      <td>20.330677</td>\n",
       "      <td>0.069323</td>\n",
       "    </tr>\n",
       "    <tr>\n",
       "      <th>1623</th>\n",
       "      <td>20.4100</td>\n",
       "      <td>20.328035</td>\n",
       "      <td>0.081965</td>\n",
       "    </tr>\n",
       "    <tr>\n",
       "      <th>1624</th>\n",
       "      <td>20.3900</td>\n",
       "      <td>20.320110</td>\n",
       "      <td>0.069890</td>\n",
       "    </tr>\n",
       "    <tr>\n",
       "      <th>1625</th>\n",
       "      <td>20.4000</td>\n",
       "      <td>20.317469</td>\n",
       "      <td>0.082531</td>\n",
       "    </tr>\n",
       "    <tr>\n",
       "      <th>1626</th>\n",
       "      <td>20.4500</td>\n",
       "      <td>20.314827</td>\n",
       "      <td>0.135173</td>\n",
       "    </tr>\n",
       "    <tr>\n",
       "      <th>1627</th>\n",
       "      <td>20.4050</td>\n",
       "      <td>20.312185</td>\n",
       "      <td>0.092815</td>\n",
       "    </tr>\n",
       "    <tr>\n",
       "      <th>1628</th>\n",
       "      <td>20.2425</td>\n",
       "      <td>20.309544</td>\n",
       "      <td>-0.067044</td>\n",
       "    </tr>\n",
       "    <tr>\n",
       "      <th>1629</th>\n",
       "      <td>20.3900</td>\n",
       "      <td>20.301619</td>\n",
       "      <td>0.088381</td>\n",
       "    </tr>\n",
       "    <tr>\n",
       "      <th>1630</th>\n",
       "      <td>20.4450</td>\n",
       "      <td>20.298977</td>\n",
       "      <td>0.146023</td>\n",
       "    </tr>\n",
       "    <tr>\n",
       "      <th>1631</th>\n",
       "      <td>20.4300</td>\n",
       "      <td>20.296335</td>\n",
       "      <td>0.133665</td>\n",
       "    </tr>\n",
       "    <tr>\n",
       "      <th>1632</th>\n",
       "      <td>20.4000</td>\n",
       "      <td>20.293694</td>\n",
       "      <td>0.106306</td>\n",
       "    </tr>\n",
       "    <tr>\n",
       "      <th>1633</th>\n",
       "      <td>20.4000</td>\n",
       "      <td>20.291052</td>\n",
       "      <td>0.108948</td>\n",
       "    </tr>\n",
       "    <tr>\n",
       "      <th>1634</th>\n",
       "      <td>20.3600</td>\n",
       "      <td>20.283127</td>\n",
       "      <td>0.076873</td>\n",
       "    </tr>\n",
       "    <tr>\n",
       "      <th>1635</th>\n",
       "      <td>20.3500</td>\n",
       "      <td>20.280485</td>\n",
       "      <td>0.069515</td>\n",
       "    </tr>\n",
       "    <tr>\n",
       "      <th>1636</th>\n",
       "      <td>20.3300</td>\n",
       "      <td>20.277844</td>\n",
       "      <td>0.052156</td>\n",
       "    </tr>\n",
       "    <tr>\n",
       "      <th>1637</th>\n",
       "      <td>20.3250</td>\n",
       "      <td>20.275202</td>\n",
       "      <td>0.049798</td>\n",
       "    </tr>\n",
       "    <tr>\n",
       "      <th>1638</th>\n",
       "      <td>20.3550</td>\n",
       "      <td>20.272560</td>\n",
       "      <td>0.082440</td>\n",
       "    </tr>\n",
       "    <tr>\n",
       "      <th>1639</th>\n",
       "      <td>20.3500</td>\n",
       "      <td>20.264636</td>\n",
       "      <td>0.085364</td>\n",
       "    </tr>\n",
       "    <tr>\n",
       "      <th>1640</th>\n",
       "      <td>20.2065</td>\n",
       "      <td>20.261994</td>\n",
       "      <td>-0.055494</td>\n",
       "    </tr>\n",
       "    <tr>\n",
       "      <th>1641</th>\n",
       "      <td>20.3250</td>\n",
       "      <td>20.189241</td>\n",
       "      <td>0.135759</td>\n",
       "    </tr>\n",
       "  </tbody>\n",
       "</table>\n",
       "</div>"
      ],
      "text/plain": [
       "       Actual  Predicted  Difference\n",
       "1619  20.4050  20.338602    0.066398\n",
       "1620  20.4050  20.335960    0.069040\n",
       "1621  20.4300  20.333318    0.096682\n",
       "1622  20.4000  20.330677    0.069323\n",
       "1623  20.4100  20.328035    0.081965\n",
       "1624  20.3900  20.320110    0.069890\n",
       "1625  20.4000  20.317469    0.082531\n",
       "1626  20.4500  20.314827    0.135173\n",
       "1627  20.4050  20.312185    0.092815\n",
       "1628  20.2425  20.309544   -0.067044\n",
       "1629  20.3900  20.301619    0.088381\n",
       "1630  20.4450  20.298977    0.146023\n",
       "1631  20.4300  20.296335    0.133665\n",
       "1632  20.4000  20.293694    0.106306\n",
       "1633  20.4000  20.291052    0.108948\n",
       "1634  20.3600  20.283127    0.076873\n",
       "1635  20.3500  20.280485    0.069515\n",
       "1636  20.3300  20.277844    0.052156\n",
       "1637  20.3250  20.275202    0.049798\n",
       "1638  20.3550  20.272560    0.082440\n",
       "1639  20.3500  20.264636    0.085364\n",
       "1640  20.2065  20.261994   -0.055494\n",
       "1641  20.3250  20.189241    0.135759"
      ]
     },
     "execution_count": 53,
     "metadata": {},
     "output_type": "execute_result"
    }
   ],
   "source": [
    "pd.DataFrame({'Actual': y_test1, 'Predicted': y_pred1 , \"Difference\" : y_test1 - y_pred1})"
   ]
  },
  {
   "cell_type": "code",
   "execution_count": 127,
   "metadata": {},
   "outputs": [
    {
     "data": {
      "image/png": "[encoded data removed]",
      "text/plain": [
       "<Figure size 1152x576 with 1 Axes>"
      ]
     },
     "metadata": {
      "needs_background": "light"
     },
     "output_type": "display_data"
    }
   ],
   "source": [
    "plt.figure(figsize = (16,8))\n",
    "plt.plot(req_Data[\"Date\"][1619:1642] , y_pred1 , label = \"Predicted\")\n",
    "plt.plot(req_Data[\"Date\"][1619:1642] , y_test1 , label = \"Test\")\n",
    "plt.xlabel('Date' , fontsize=\"20\")\n",
    "plt.ylabel('USD to ETB Exchange Price ' , fontsize = \"20\" )\n",
    "plt.title('Prediction for the Jan 2015 using Data from Jan 2011 - Dec 2014' , fontsize = \"20\")\n",
    "plt.grid()\n",
    "plt.legend()\n",
    "plt.show()"
   ]
  },
  {
   "cell_type": "code",
   "execution_count": 59,
   "metadata": {},
   "outputs": [
    {
     "data": {
      "text/plain": [
       "(0.14602301513998128, -0.06704359530164794)"
      ]
     },
     "execution_count": 59,
     "metadata": {},
     "output_type": "execute_result"
    }
   ],
   "source": [
    "Max_Error = max(y_test1 - y_pred1)\n",
    "Min_Error = min(y_test1 - y_pred1)\n",
    "Max_Error , Min_Error"
   ]
  },
  {
   "cell_type": "code",
   "execution_count": 60,
   "metadata": {},
   "outputs": [],
   "source": [
    "#Final Step Examine the prediction \n",
    "\n",
    "#we use ssklearnn meterics to check"
   ]
  },
  {
   "cell_type": "code",
   "execution_count": 61,
   "metadata": {},
   "outputs": [],
   "source": [
    "MAE = metrics.mean_absolute_error(y_test1, y_pred1)\n",
    "MSE = metrics.mean_squared_error(y_test1, y_pred1)\n",
    "RMSE = np.sqrt(MSE)"
   ]
  },
  {
   "cell_type": "code",
   "execution_count": 62,
   "metadata": {},
   "outputs": [
    {
     "data": {
      "text/plain": [
       "(0.08789489724099066, 0.0084708701749681, 0.09203733033377326)"
      ]
     },
     "execution_count": 62,
     "metadata": {},
     "output_type": "execute_result"
    }
   ],
   "source": [
    "MAE , MSE , RMSE"
   ]
  },
  {
   "cell_type": "code",
   "execution_count": 63,
   "metadata": {},
   "outputs": [
    {
     "data": {
      "text/plain": [
       "0.3672180563442042"
      ]
     },
     "execution_count": 63,
     "metadata": {},
     "output_type": "execute_result"
    }
   ],
   "source": [
    "RMSE / (max_Price - min_Price) * 100"
   ]
  },
  {
   "cell_type": "code",
   "execution_count": 65,
   "metadata": {},
   "outputs": [],
   "source": [
    "#second Iteration \n",
    "\n",
    "#train model with 8 years of data and predict the next 2 years \n",
    "\n",
    "x_train2 , y_train2 , x_test2 , y_test2 = x.iloc[598:,] , y.iloc[598:,] , x.iloc[575:598,] , y.iloc[575:598,]\n",
    "\n"
   ]
  },
  {
   "cell_type": "code",
   "execution_count": 67,
   "metadata": {},
   "outputs": [
    {
     "data": {
      "text/plain": [
       "((2086, 5), (2684, 5), (23, 5))"
      ]
     },
     "execution_count": 67,
     "metadata": {},
     "output_type": "execute_result"
    }
   ],
   "source": [
    "x_train2.shape , x.shape , x_test2.shape"
   ]
  },
  {
   "cell_type": "code",
   "execution_count": 68,
   "metadata": {},
   "outputs": [],
   "source": [
    "regressor2 = LinearRegression()"
   ]
  },
  {
   "cell_type": "code",
   "execution_count": 70,
   "metadata": {},
   "outputs": [
    {
     "data": {
      "text/plain": [
       "LinearRegression()"
      ]
     },
     "execution_count": 70,
     "metadata": {},
     "output_type": "execute_result"
    }
   ],
   "source": [
    "regressor2.fit(x_train2 , y_train2)"
   ]
  },
  {
   "cell_type": "code",
   "execution_count": 90,
   "metadata": {},
   "outputs": [
    {
     "data": {
      "text/plain": [
       "array([ 0.00678532,  0.00132757, -0.13250217,  0.03644217,  0.65329306])"
      ]
     },
     "execution_count": 90,
     "metadata": {},
     "output_type": "execute_result"
    }
   ],
   "source": [
    "regressor2.coef_"
   ]
  },
  {
   "cell_type": "code",
   "execution_count": 72,
   "metadata": {},
   "outputs": [],
   "source": [
    "y_pred2 = regressor2.predict(x_test2)"
   ]
  },
  {
   "cell_type": "code",
   "execution_count": 73,
   "metadata": {
    "scrolled": true
   },
   "outputs": [
    {
     "data": {
      "text/html": [
       "<div>\n",
       "<style scoped>\n",
       "    .dataframe tbody tr th:only-of-type {\n",
       "        vertical-align: middle;\n",
       "    }\n",
       "\n",
       "    .dataframe tbody tr th {\n",
       "        vertical-align: top;\n",
       "    }\n",
       "\n",
       "    .dataframe thead th {\n",
       "        text-align: right;\n",
       "    }\n",
       "</style>\n",
       "<table border=\"1\" class=\"dataframe\">\n",
       "  <thead>\n",
       "    <tr style=\"text-align: right;\">\n",
       "      <th></th>\n",
       "      <th>Actual</th>\n",
       "      <th>Predicted</th>\n",
       "      <th>Difference</th>\n",
       "    </tr>\n",
       "  </thead>\n",
       "  <tbody>\n",
       "    <tr>\n",
       "      <th>575</th>\n",
       "      <td>28.5676</td>\n",
       "      <td>27.024660</td>\n",
       "      <td>1.542940</td>\n",
       "    </tr>\n",
       "    <tr>\n",
       "      <th>576</th>\n",
       "      <td>28.5739</td>\n",
       "      <td>27.017875</td>\n",
       "      <td>1.556025</td>\n",
       "    </tr>\n",
       "    <tr>\n",
       "      <th>577</th>\n",
       "      <td>28.6120</td>\n",
       "      <td>27.011090</td>\n",
       "      <td>1.600910</td>\n",
       "    </tr>\n",
       "    <tr>\n",
       "      <th>578</th>\n",
       "      <td>28.5373</td>\n",
       "      <td>27.004304</td>\n",
       "      <td>1.532996</td>\n",
       "    </tr>\n",
       "    <tr>\n",
       "      <th>579</th>\n",
       "      <td>28.5442</td>\n",
       "      <td>26.983948</td>\n",
       "      <td>1.560252</td>\n",
       "    </tr>\n",
       "    <tr>\n",
       "      <th>580</th>\n",
       "      <td>28.5674</td>\n",
       "      <td>26.977163</td>\n",
       "      <td>1.590237</td>\n",
       "    </tr>\n",
       "    <tr>\n",
       "      <th>581</th>\n",
       "      <td>28.5528</td>\n",
       "      <td>26.970378</td>\n",
       "      <td>1.582422</td>\n",
       "    </tr>\n",
       "    <tr>\n",
       "      <th>582</th>\n",
       "      <td>28.5647</td>\n",
       "      <td>26.963592</td>\n",
       "      <td>1.601108</td>\n",
       "    </tr>\n",
       "    <tr>\n",
       "      <th>583</th>\n",
       "      <td>28.2828</td>\n",
       "      <td>26.956807</td>\n",
       "      <td>1.325993</td>\n",
       "    </tr>\n",
       "    <tr>\n",
       "      <th>584</th>\n",
       "      <td>28.4700</td>\n",
       "      <td>26.936451</td>\n",
       "      <td>1.533549</td>\n",
       "    </tr>\n",
       "    <tr>\n",
       "      <th>585</th>\n",
       "      <td>28.4500</td>\n",
       "      <td>26.929666</td>\n",
       "      <td>1.520334</td>\n",
       "    </tr>\n",
       "    <tr>\n",
       "      <th>586</th>\n",
       "      <td>28.5930</td>\n",
       "      <td>26.922881</td>\n",
       "      <td>1.670119</td>\n",
       "    </tr>\n",
       "    <tr>\n",
       "      <th>587</th>\n",
       "      <td>28.6022</td>\n",
       "      <td>26.916095</td>\n",
       "      <td>1.686105</td>\n",
       "    </tr>\n",
       "    <tr>\n",
       "      <th>588</th>\n",
       "      <td>28.5240</td>\n",
       "      <td>26.909310</td>\n",
       "      <td>1.614690</td>\n",
       "    </tr>\n",
       "    <tr>\n",
       "      <th>589</th>\n",
       "      <td>28.5005</td>\n",
       "      <td>26.888954</td>\n",
       "      <td>1.611546</td>\n",
       "    </tr>\n",
       "    <tr>\n",
       "      <th>590</th>\n",
       "      <td>28.0845</td>\n",
       "      <td>26.882169</td>\n",
       "      <td>1.202331</td>\n",
       "    </tr>\n",
       "    <tr>\n",
       "      <th>591</th>\n",
       "      <td>28.3043</td>\n",
       "      <td>26.875383</td>\n",
       "      <td>1.428917</td>\n",
       "    </tr>\n",
       "    <tr>\n",
       "      <th>592</th>\n",
       "      <td>28.5699</td>\n",
       "      <td>26.868598</td>\n",
       "      <td>1.701302</td>\n",
       "    </tr>\n",
       "    <tr>\n",
       "      <th>593</th>\n",
       "      <td>28.3422</td>\n",
       "      <td>26.861813</td>\n",
       "      <td>1.480387</td>\n",
       "    </tr>\n",
       "    <tr>\n",
       "      <th>594</th>\n",
       "      <td>28.4555</td>\n",
       "      <td>26.841457</td>\n",
       "      <td>1.614043</td>\n",
       "    </tr>\n",
       "    <tr>\n",
       "      <th>595</th>\n",
       "      <td>28.4337</td>\n",
       "      <td>26.834671</td>\n",
       "      <td>1.599029</td>\n",
       "    </tr>\n",
       "    <tr>\n",
       "      <th>596</th>\n",
       "      <td>28.4398</td>\n",
       "      <td>26.827886</td>\n",
       "      <td>1.611914</td>\n",
       "    </tr>\n",
       "    <tr>\n",
       "      <th>597</th>\n",
       "      <td>28.1724</td>\n",
       "      <td>26.821101</td>\n",
       "      <td>1.351299</td>\n",
       "    </tr>\n",
       "  </tbody>\n",
       "</table>\n",
       "</div>"
      ],
      "text/plain": [
       "      Actual  Predicted  Difference\n",
       "575  28.5676  27.024660    1.542940\n",
       "576  28.5739  27.017875    1.556025\n",
       "577  28.6120  27.011090    1.600910\n",
       "578  28.5373  27.004304    1.532996\n",
       "579  28.5442  26.983948    1.560252\n",
       "580  28.5674  26.977163    1.590237\n",
       "581  28.5528  26.970378    1.582422\n",
       "582  28.5647  26.963592    1.601108\n",
       "583  28.2828  26.956807    1.325993\n",
       "584  28.4700  26.936451    1.533549\n",
       "585  28.4500  26.929666    1.520334\n",
       "586  28.5930  26.922881    1.670119\n",
       "587  28.6022  26.916095    1.686105\n",
       "588  28.5240  26.909310    1.614690\n",
       "589  28.5005  26.888954    1.611546\n",
       "590  28.0845  26.882169    1.202331\n",
       "591  28.3043  26.875383    1.428917\n",
       "592  28.5699  26.868598    1.701302\n",
       "593  28.3422  26.861813    1.480387\n",
       "594  28.4555  26.841457    1.614043\n",
       "595  28.4337  26.834671    1.599029\n",
       "596  28.4398  26.827886    1.611914\n",
       "597  28.1724  26.821101    1.351299"
      ]
     },
     "execution_count": 73,
     "metadata": {},
     "output_type": "execute_result"
    }
   ],
   "source": [
    "pd.DataFrame({'Actual': y_test2, 'Predicted': y_pred2 , \"Difference\" : y_test2 - y_pred2})"
   ]
  },
  {
   "cell_type": "code",
   "execution_count": 126,
   "metadata": {},
   "outputs": [
    {
     "data": {
      "image/png": "[encoded data removed]",
      "text/plain": [
       "<Figure size 1152x576 with 1 Axes>"
      ]
     },
     "metadata": {
      "needs_background": "light"
     },
     "output_type": "display_data"
    }
   ],
   "source": [
    "plt.figure(figsize = (16,8))\n",
    "plt.plot(req_Data[\"Date\"][575:598] , y_pred2 , label = \"Predicted\")\n",
    "plt.plot(req_Data[\"Date\"][575:598] , y_test2 , label = \"Test\")\n",
    "plt.xlabel('Date' , fontsize=\"20\")\n",
    "plt.ylabel('USD to ETB Exchange Price ' , fontsize = \"20\" )\n",
    "plt.title('Prediction for the Jann 2019 using Data from Jan 2011 - Dec 2018' , fontsize = \"20\")\n",
    "plt.grid()\n",
    "plt.legend()\n",
    "plt.show()"
   ]
  },
  {
   "cell_type": "code",
   "execution_count": 75,
   "metadata": {},
   "outputs": [
    {
     "data": {
      "text/plain": [
       "(1.7013020741301652, 1.2023314278922683)"
      ]
     },
     "execution_count": 75,
     "metadata": {},
     "output_type": "execute_result"
    }
   ],
   "source": [
    "Max_Error = max(y_test2 - y_pred2)\n",
    "\n",
    "Min_Error = min(y_test2 - y_pred2)\n",
    "\n",
    "Max_Error , Min_Error"
   ]
  },
  {
   "cell_type": "code",
   "execution_count": 82,
   "metadata": {},
   "outputs": [],
   "source": [
    "MAE2 = metrics.mean_absolute_error(y_test2, y_pred2)\n",
    "MSE2 = metrics.mean_squared_error(y_test2, y_pred2)\n",
    "RMSE2 = np.sqrt(MSE2)"
   ]
  },
  {
   "cell_type": "code",
   "execution_count": 83,
   "metadata": {},
   "outputs": [
    {
     "data": {
      "text/plain": [
       "(1.5442803587459775, 2.3984084064646924, 1.5486795686857537)"
      ]
     },
     "execution_count": 83,
     "metadata": {},
     "output_type": "execute_result"
    }
   ],
   "source": [
    "MAE2 , MSE2 , RMSE2"
   ]
  },
  {
   "cell_type": "code",
   "execution_count": 84,
   "metadata": {},
   "outputs": [
    {
     "data": {
      "text/plain": [
       "6.179048208486295"
      ]
     },
     "execution_count": 84,
     "metadata": {},
     "output_type": "execute_result"
    }
   ],
   "source": [
    "RMSE2 / (max_Price - min_Price) * 100"
   ]
  },
  {
   "cell_type": "code",
   "execution_count": 85,
   "metadata": {},
   "outputs": [
    {
     "data": {
      "text/plain": [
       "0.6286672254819782"
      ]
     },
     "execution_count": 85,
     "metadata": {},
     "output_type": "execute_result"
    }
   ],
   "source": [
    "#Final Training : Fit the more than 99 percent of the data  until the end of March 2021\n"
   ]
  },
  {
   "cell_type": "code",
   "execution_count": 98,
   "metadata": {},
   "outputs": [],
   "source": [
    "#second Iteration \n",
    "\n",
    "#train model with 8 years of data and predict the next 2 years \n",
    "\n",
    "x_train3 , y_train3 , x_test3 , y_test3 = x.iloc[11:,] , y.iloc[11:,] , x.iloc[:11,] , y.iloc[:11,]\n",
    "\n"
   ]
  },
  {
   "cell_type": "code",
   "execution_count": 99,
   "metadata": {},
   "outputs": [
    {
     "data": {
      "text/plain": [
       "((2673, 5), (2684, 5), (11, 5))"
      ]
     },
     "execution_count": 99,
     "metadata": {},
     "output_type": "execute_result"
    }
   ],
   "source": [
    "x_train3.shape , x.shape , x_test3.shape"
   ]
  },
  {
   "cell_type": "code",
   "execution_count": 100,
   "metadata": {},
   "outputs": [],
   "source": [
    "regressor3 = LinearRegression()"
   ]
  },
  {
   "cell_type": "code",
   "execution_count": 101,
   "metadata": {},
   "outputs": [
    {
     "data": {
      "text/plain": [
       "LinearRegression()"
      ]
     },
     "execution_count": 101,
     "metadata": {},
     "output_type": "execute_result"
    }
   ],
   "source": [
    "regressor3.fit(x_train3 , y_train3)"
   ]
  },
  {
   "cell_type": "code",
   "execution_count": 102,
   "metadata": {},
   "outputs": [
    {
     "data": {
      "text/plain": [
       "array([ 0.01146833,  0.00275925, -0.30118011,  0.0215594 ,  1.02398016])"
      ]
     },
     "execution_count": 102,
     "metadata": {},
     "output_type": "execute_result"
    }
   ],
   "source": [
    "regressor3.coef_"
   ]
  },
  {
   "cell_type": "code",
   "execution_count": 103,
   "metadata": {},
   "outputs": [],
   "source": [
    "y_pred3 = regressor3.predict(x_test3)\n",
    "\n"
   ]
  },
  {
   "cell_type": "code",
   "execution_count": 104,
   "metadata": {},
   "outputs": [
    {
     "data": {
      "text/plain": [
       "11"
      ]
     },
     "execution_count": 104,
     "metadata": {},
     "output_type": "execute_result"
    }
   ],
   "source": [
    "y_test3.size"
   ]
  },
  {
   "cell_type": "code",
   "execution_count": 105,
   "metadata": {},
   "outputs": [
    {
     "data": {
      "text/html": [
       "<div>\n",
       "<style scoped>\n",
       "    .dataframe tbody tr th:only-of-type {\n",
       "        vertical-align: middle;\n",
       "    }\n",
       "\n",
       "    .dataframe tbody tr th {\n",
       "        vertical-align: top;\n",
       "    }\n",
       "\n",
       "    .dataframe thead th {\n",
       "        text-align: right;\n",
       "    }\n",
       "</style>\n",
       "<table border=\"1\" class=\"dataframe\">\n",
       "  <thead>\n",
       "    <tr style=\"text-align: right;\">\n",
       "      <th></th>\n",
       "      <th>Actual</th>\n",
       "      <th>Predicted</th>\n",
       "      <th>Difference</th>\n",
       "    </tr>\n",
       "  </thead>\n",
       "  <tbody>\n",
       "    <tr>\n",
       "      <th>0</th>\n",
       "      <td>41.6969</td>\n",
       "      <td>40.807666</td>\n",
       "      <td>0.889234</td>\n",
       "    </tr>\n",
       "    <tr>\n",
       "      <th>1</th>\n",
       "      <td>41.6150</td>\n",
       "      <td>40.796198</td>\n",
       "      <td>0.818802</td>\n",
       "    </tr>\n",
       "    <tr>\n",
       "      <th>2</th>\n",
       "      <td>41.5825</td>\n",
       "      <td>40.784729</td>\n",
       "      <td>0.797771</td>\n",
       "    </tr>\n",
       "    <tr>\n",
       "      <th>3</th>\n",
       "      <td>41.5555</td>\n",
       "      <td>40.773261</td>\n",
       "      <td>0.782239</td>\n",
       "    </tr>\n",
       "    <tr>\n",
       "      <th>4</th>\n",
       "      <td>41.5227</td>\n",
       "      <td>40.738856</td>\n",
       "      <td>0.783844</td>\n",
       "    </tr>\n",
       "    <tr>\n",
       "      <th>5</th>\n",
       "      <td>41.2409</td>\n",
       "      <td>40.727388</td>\n",
       "      <td>0.513512</td>\n",
       "    </tr>\n",
       "    <tr>\n",
       "      <th>6</th>\n",
       "      <td>41.4626</td>\n",
       "      <td>40.715919</td>\n",
       "      <td>0.746681</td>\n",
       "    </tr>\n",
       "    <tr>\n",
       "      <th>7</th>\n",
       "      <td>41.4365</td>\n",
       "      <td>40.704451</td>\n",
       "      <td>0.732049</td>\n",
       "    </tr>\n",
       "    <tr>\n",
       "      <th>8</th>\n",
       "      <td>41.4029</td>\n",
       "      <td>40.692983</td>\n",
       "      <td>0.709917</td>\n",
       "    </tr>\n",
       "    <tr>\n",
       "      <th>9</th>\n",
       "      <td>41.3765</td>\n",
       "      <td>40.658578</td>\n",
       "      <td>0.717922</td>\n",
       "    </tr>\n",
       "    <tr>\n",
       "      <th>10</th>\n",
       "      <td>41.3417</td>\n",
       "      <td>40.647109</td>\n",
       "      <td>0.694591</td>\n",
       "    </tr>\n",
       "  </tbody>\n",
       "</table>\n",
       "</div>"
      ],
      "text/plain": [
       "     Actual  Predicted  Difference\n",
       "0   41.6969  40.807666    0.889234\n",
       "1   41.6150  40.796198    0.818802\n",
       "2   41.5825  40.784729    0.797771\n",
       "3   41.5555  40.773261    0.782239\n",
       "4   41.5227  40.738856    0.783844\n",
       "5   41.2409  40.727388    0.513512\n",
       "6   41.4626  40.715919    0.746681\n",
       "7   41.4365  40.704451    0.732049\n",
       "8   41.4029  40.692983    0.709917\n",
       "9   41.3765  40.658578    0.717922\n",
       "10  41.3417  40.647109    0.694591"
      ]
     },
     "execution_count": 105,
     "metadata": {},
     "output_type": "execute_result"
    }
   ],
   "source": [
    "pd.DataFrame({'Actual': y_test3, 'Predicted': y_pred3 , \"Difference\" : y_test3 - y_pred3})"
   ]
  },
  {
   "cell_type": "code",
   "execution_count": 125,
   "metadata": {},
   "outputs": [
    {
     "data": {
      "image/png": "[encoded data removed]",
      "text/plain": [
       "<Figure size 1152x576 with 1 Axes>"
      ]
     },
     "metadata": {
      "needs_background": "light"
     },
     "output_type": "display_data"
    }
   ],
   "source": [
    "plt.figure(figsize = (16,8))\n",
    "plt.plot(req_Data[\"Date\"][:11,] , y_pred3 , label = \"Predicted\")\n",
    "plt.plot(req_Data[\"Date\"][:11,] , y_test3 , label = \"Test\")\n",
    "plt.xlabel('Date' , fontsize=\"20\")\n",
    "plt.ylabel('USD to ETB Exchange Price ' , fontsize = \"20\" )\n",
    "plt.title('Prediction for the April 2021 using Data from Jan 2011 - Dec 2020' , fontsize = \"20\")\n",
    "plt.grid()\n",
    "plt.legend()\n",
    "plt.show()"
   ]
  },
  {
   "cell_type": "code",
   "execution_count": 108,
   "metadata": {},
   "outputs": [
    {
     "data": {
      "text/plain": [
       "(0.8892341311012331, 0.5135124648597795)"
      ]
     },
     "execution_count": 108,
     "metadata": {},
     "output_type": "execute_result"
    }
   ],
   "source": [
    "Max_Error3 = max(y_test3 - y_pred3)\n",
    "\n",
    "Min_Error3 = min(y_test3 - y_pred3)\n",
    "\n",
    "Max_Error3 , Min_Error3"
   ]
  },
  {
   "cell_type": "code",
   "execution_count": 109,
   "metadata": {},
   "outputs": [],
   "source": [
    "MAE3 = metrics.mean_absolute_error(y_test3, y_pred3)\n",
    "MSE3 = metrics.mean_squared_error(y_test3, y_pred3)\n",
    "RMSE3 = np.sqrt(MSE3)"
   ]
  },
  {
   "cell_type": "code",
   "execution_count": 110,
   "metadata": {},
   "outputs": [
    {
     "data": {
      "text/plain": [
       "(0.7442330708987913, 0.5620816173327756, 0.7497210263376476)"
      ]
     },
     "execution_count": 110,
     "metadata": {},
     "output_type": "execute_result"
    }
   ],
   "source": [
    "MAE3 , MSE3 , RMSE3"
   ]
  },
  {
   "cell_type": "code",
   "execution_count": 115,
   "metadata": {},
   "outputs": [
    {
     "data": {
      "text/plain": [
       "3.022520213419531"
      ]
     },
     "execution_count": 115,
     "metadata": {},
     "output_type": "execute_result"
    }
   ],
   "source": [
    "RMSE3 / (np.max(y_train3) - np.min(y_train3)) * 100"
   ]
  },
  {
   "cell_type": "code",
   "execution_count": 116,
   "metadata": {},
   "outputs": [
    {
     "data": {
      "text/plain": [
       "24.8045"
      ]
     },
     "execution_count": 116,
     "metadata": {},
     "output_type": "execute_result"
    }
   ],
   "source": [
    "np.max(y_train3) - np.min(y_train3)"
   ]
  },
  {
   "cell_type": "code",
   "execution_count": null,
   "metadata": {},
   "outputs": [],
   "source": []
  }
 ],
 "metadata": {
  "kernelspec": {
   "display_name": "Python 3",
   "language": "python",
   "name": "python3"
  },
  "language_info": {
   "codemirror_mode": {
    "name": "ipython",
    "version": 3
   },
   "file_extension": ".py",
   "mimetype": "text/x-python",
   "name": "python",
   "nbconvert_exporter": "python",
   "pygments_lexer": "ipython3",
   "version": "3.8.5"
  }
 },
 "nbformat": 4,
 "nbformat_minor": 4
}
